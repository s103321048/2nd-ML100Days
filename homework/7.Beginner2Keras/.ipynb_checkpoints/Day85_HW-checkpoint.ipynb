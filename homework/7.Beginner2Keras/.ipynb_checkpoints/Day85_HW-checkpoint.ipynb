{
 "cells": [
  {
   "cell_type": "markdown",
   "metadata": {},
   "source": [
    "## Work\n",
    "1. 試改變 monitor \"Validation Accuracy\" 並比較結果\n",
    "2. 調整 earlystop 的等待次數至 10, 25 並比較結果"
   ]
  },
  {
   "cell_type": "code",
   "execution_count": 18,
   "metadata": {},
   "outputs": [],
   "source": [
    "import os\n",
    "import keras\n",
    "import matplotlib.pyplot as plt\n",
    "%matplotlib inline\n",
    "\n",
    "\n",
    "# Disable GPU\n",
    "os.environ[\"CUDA_VISIBLE_DEVICES\"] = \"\""
   ]
  },
  {
   "cell_type": "code",
   "execution_count": 19,
   "metadata": {},
   "outputs": [],
   "source": [
    "train, test = keras.datasets.cifar10.load_data()"
   ]
  },
  {
   "cell_type": "code",
   "execution_count": 20,
   "metadata": {},
   "outputs": [],
   "source": [
    "## 資料前處理\n",
    "def preproc_x(x, flatten=True):\n",
    "    x = x / 255.\n",
    "    if flatten:\n",
    "        x = x.reshape((len(x), -1))\n",
    "    return x\n",
    "\n",
    "def preproc_y(y, num_classes=10):\n",
    "    if y.shape[-1] == 1:\n",
    "        y = keras.utils.to_categorical(y, num_classes)\n",
    "    return y    "
   ]
  },
  {
   "cell_type": "code",
   "execution_count": 21,
   "metadata": {},
   "outputs": [],
   "source": [
    "x_train, y_train = train\n",
    "x_test, y_test = test\n",
    "\n",
    "# Preproc the inputs\n",
    "x_train = preproc_x(x_train)\n",
    "x_test = preproc_x(x_test)\n",
    "\n",
    "# Preprc the outputs\n",
    "y_train = preproc_y(y_train)\n",
    "y_test = preproc_y(y_test)"
   ]
  },
  {
   "cell_type": "code",
   "execution_count": 25,
   "metadata": {},
   "outputs": [],
   "source": [
    "from keras.layers import BatchNormalization\n",
    "\"\"\"\n",
    "建立神經網路，並加入 BN layer\n",
    "\"\"\"\n",
    "def build_mlp(input_shape, output_units=10, num_neurons=[512, 256, 128]):\n",
    "    input_layer = keras.layers.Input(input_shape)\n",
    "    \n",
    "    for i, n_units in enumerate(num_neurons):\n",
    "        if i == 0:\n",
    "            x = keras.layers.Dense(units=n_units, \n",
    "                                   activation=\"relu\", \n",
    "                                   name=\"hidden_layer\"+str(i+1))(input_layer)\n",
    "            x = BatchNormalization()(x)\n",
    "        else:\n",
    "            x = keras.layers.Dense(units=n_units, \n",
    "                                   activation=\"relu\", \n",
    "                                   name=\"hidden_layer\"+str(i+1))(x)\n",
    "            x = BatchNormalization()(x)\n",
    "    \n",
    "    out = keras.layers.Dense(units=output_units, activation=\"softmax\", name=\"output\")(x)\n",
    "    \n",
    "    model = keras.models.Model(inputs=[input_layer], outputs=[out])\n",
    "    return model"
   ]
  },
  {
   "cell_type": "code",
   "execution_count": 26,
   "metadata": {},
   "outputs": [],
   "source": [
    "\"\"\"Code Here\n",
    "設定超參數\n",
    "\"\"\"\n",
    "LEARNING_RATE = 1e-3\n",
    "EPOCHS = 50\n",
    "BATCH_SIZE = 1024\n",
    "MOMENTUM = 0.95"
   ]
  },
  {
   "cell_type": "code",
   "execution_count": 31,
   "metadata": {
    "scrolled": true
   },
   "outputs": [
    {
     "name": "stdout",
     "output_type": "stream",
     "text": [
      "_________________________________________________________________\n",
      "Layer (type)                 Output Shape              Param #   \n",
      "=================================================================\n",
      "input_11 (InputLayer)        (None, 3072)              0         \n",
      "_________________________________________________________________\n",
      "hidden_layer1 (Dense)        (None, 512)               1573376   \n",
      "_________________________________________________________________\n",
      "batch_normalization_31 (Batc (None, 512)               2048      \n",
      "_________________________________________________________________\n",
      "hidden_layer2 (Dense)        (None, 256)               131328    \n",
      "_________________________________________________________________\n",
      "batch_normalization_32 (Batc (None, 256)               1024      \n",
      "_________________________________________________________________\n",
      "hidden_layer3 (Dense)        (None, 128)               32896     \n",
      "_________________________________________________________________\n",
      "batch_normalization_33 (Batc (None, 128)               512       \n",
      "_________________________________________________________________\n",
      "output (Dense)               (None, 10)                1290      \n",
      "=================================================================\n",
      "Total params: 1,742,474\n",
      "Trainable params: 1,740,682\n",
      "Non-trainable params: 1,792\n",
      "_________________________________________________________________\n",
      "Train on 50000 samples, validate on 10000 samples\n",
      "Epoch 1/50\n",
      "50000/50000 [==============================] - 6s 123us/step - loss: 2.2433 - acc: 0.2664 - val_loss: 2.0904 - val_acc: 0.3134\n",
      "Epoch 2/50\n",
      "50000/50000 [==============================] - 5s 105us/step - loss: 1.7549 - acc: 0.3918 - val_loss: 1.8861 - val_acc: 0.3594\n",
      "Epoch 3/50\n",
      "50000/50000 [==============================] - 5s 100us/step - loss: 1.6276 - acc: 0.4337 - val_loss: 1.6874 - val_acc: 0.4126\n",
      "Epoch 4/50\n",
      "50000/50000 [==============================] - 5s 108us/step - loss: 1.5520 - acc: 0.4590 - val_loss: 1.6440 - val_acc: 0.4253\n",
      "Epoch 5/50\n",
      "50000/50000 [==============================] - 6s 115us/step - loss: 1.4944 - acc: 0.4808 - val_loss: 1.5983 - val_acc: 0.4388\n",
      "Epoch 6/50\n",
      "50000/50000 [==============================] - 5s 104us/step - loss: 1.4480 - acc: 0.4967 - val_loss: 1.5677 - val_acc: 0.4515\n",
      "Epoch 7/50\n",
      "50000/50000 [==============================] - 4s 88us/step - loss: 1.4070 - acc: 0.5105 - val_loss: 1.5664 - val_acc: 0.4512\n",
      "Epoch 8/50\n",
      "50000/50000 [==============================] - 4s 89us/step - loss: 1.3716 - acc: 0.5242 - val_loss: 1.5395 - val_acc: 0.4605\n",
      "Epoch 9/50\n",
      "50000/50000 [==============================] - 4s 88us/step - loss: 1.3391 - acc: 0.5360 - val_loss: 1.5129 - val_acc: 0.4659\n",
      "Epoch 10/50\n",
      "50000/50000 [==============================] - 4s 88us/step - loss: 1.3086 - acc: 0.5477 - val_loss: 1.5054 - val_acc: 0.4711\n",
      "Epoch 11/50\n",
      "50000/50000 [==============================] - 4s 89us/step - loss: 1.2793 - acc: 0.5594 - val_loss: 1.4914 - val_acc: 0.4773\n",
      "Epoch 12/50\n",
      "50000/50000 [==============================] - 4s 88us/step - loss: 1.2530 - acc: 0.5690 - val_loss: 1.4831 - val_acc: 0.4791\n",
      "Epoch 13/50\n",
      "50000/50000 [==============================] - 4s 89us/step - loss: 1.2251 - acc: 0.5794 - val_loss: 1.4695 - val_acc: 0.4867\n",
      "Epoch 14/50\n",
      "50000/50000 [==============================] - 4s 89us/step - loss: 1.2009 - acc: 0.5888 - val_loss: 1.4769 - val_acc: 0.4856\n",
      "Epoch 15/50\n",
      "50000/50000 [==============================] - 4s 88us/step - loss: 1.1776 - acc: 0.5975 - val_loss: 1.4620 - val_acc: 0.4883\n",
      "Epoch 16/50\n",
      "50000/50000 [==============================] - 4s 89us/step - loss: 1.1521 - acc: 0.6063 - val_loss: 1.4580 - val_acc: 0.4883\n",
      "Epoch 17/50\n",
      "50000/50000 [==============================] - 4s 88us/step - loss: 1.1288 - acc: 0.6167 - val_loss: 1.4549 - val_acc: 0.4892\n",
      "Epoch 18/50\n",
      "50000/50000 [==============================] - 4s 88us/step - loss: 1.1058 - acc: 0.6247 - val_loss: 1.4736 - val_acc: 0.4871\n",
      "Epoch 19/50\n",
      "50000/50000 [==============================] - 4s 88us/step - loss: 1.0849 - acc: 0.6320 - val_loss: 1.4583 - val_acc: 0.4856\n",
      "Epoch 20/50\n",
      "50000/50000 [==============================] - 4s 89us/step - loss: 1.0618 - acc: 0.6402 - val_loss: 1.4632 - val_acc: 0.4917\n",
      "Epoch 21/50\n",
      "50000/50000 [==============================] - 4s 89us/step - loss: 1.0392 - acc: 0.6496 - val_loss: 1.4575 - val_acc: 0.4888\n",
      "Epoch 22/50\n",
      "50000/50000 [==============================] - 4s 89us/step - loss: 1.0174 - acc: 0.6596 - val_loss: 1.4520 - val_acc: 0.4931\n",
      "Epoch 23/50\n",
      "50000/50000 [==============================] - 4s 89us/step - loss: 0.9980 - acc: 0.6648 - val_loss: 1.4435 - val_acc: 0.5003\n",
      "Epoch 24/50\n",
      "50000/50000 [==============================] - 4s 88us/step - loss: 0.9749 - acc: 0.6743 - val_loss: 1.4475 - val_acc: 0.4981\n",
      "Epoch 25/50\n",
      "50000/50000 [==============================] - 4s 89us/step - loss: 0.9533 - acc: 0.6820 - val_loss: 1.4432 - val_acc: 0.5003\n",
      "Epoch 26/50\n",
      "50000/50000 [==============================] - 4s 88us/step - loss: 0.9329 - acc: 0.6899 - val_loss: 1.4677 - val_acc: 0.4966\n",
      "Epoch 27/50\n",
      "50000/50000 [==============================] - 4s 89us/step - loss: 0.9121 - acc: 0.6988 - val_loss: 1.4574 - val_acc: 0.4994\n",
      "Epoch 28/50\n",
      "50000/50000 [==============================] - 4s 90us/step - loss: 0.8908 - acc: 0.7056 - val_loss: 1.4601 - val_acc: 0.4990\n",
      "Epoch 29/50\n",
      "50000/50000 [==============================] - 4s 88us/step - loss: 0.8726 - acc: 0.7125 - val_loss: 1.4733 - val_acc: 0.4980\n",
      "Epoch 30/50\n",
      "50000/50000 [==============================] - 4s 89us/step - loss: 0.8513 - acc: 0.7214 - val_loss: 1.4838 - val_acc: 0.4941\n",
      "Epoch 31/50\n",
      "50000/50000 [==============================] - 4s 89us/step - loss: 0.8301 - acc: 0.7307 - val_loss: 1.4834 - val_acc: 0.4992\n",
      "Epoch 32/50\n",
      "50000/50000 [==============================] - 4s 88us/step - loss: 0.8129 - acc: 0.7353 - val_loss: 1.4995 - val_acc: 0.4920\n",
      "Epoch 33/50\n",
      "50000/50000 [==============================] - 4s 88us/step - loss: 0.7919 - acc: 0.7438 - val_loss: 1.5001 - val_acc: 0.4931\n",
      "Epoch 34/50\n",
      "50000/50000 [==============================] - 4s 89us/step - loss: 0.7718 - acc: 0.7519 - val_loss: 1.4966 - val_acc: 0.4975\n",
      "Epoch 35/50\n",
      "50000/50000 [==============================] - 4s 88us/step - loss: 0.7548 - acc: 0.7566 - val_loss: 1.5096 - val_acc: 0.5001\n",
      "Epoch 36/50\n",
      "50000/50000 [==============================] - 4s 89us/step - loss: 0.7337 - acc: 0.7656 - val_loss: 1.5229 - val_acc: 0.4916\n",
      "Epoch 37/50\n",
      "50000/50000 [==============================] - 5s 93us/step - loss: 0.7164 - acc: 0.7722 - val_loss: 1.5244 - val_acc: 0.5022\n",
      "Epoch 38/50\n",
      "50000/50000 [==============================] - 5s 90us/step - loss: 0.6963 - acc: 0.7820 - val_loss: 1.5374 - val_acc: 0.4897\n",
      "Epoch 39/50\n",
      "50000/50000 [==============================] - 4s 90us/step - loss: 0.6776 - acc: 0.7886 - val_loss: 1.5493 - val_acc: 0.4965\n",
      "Epoch 40/50\n",
      "50000/50000 [==============================] - 4s 88us/step - loss: 0.6589 - acc: 0.7972 - val_loss: 1.5725 - val_acc: 0.4902\n",
      "Epoch 41/50\n",
      "50000/50000 [==============================] - 6s 124us/step - loss: 0.6398 - acc: 0.8032 - val_loss: 1.5658 - val_acc: 0.4984\n",
      "Epoch 42/50\n",
      "50000/50000 [==============================] - 58s 1ms/step - loss: 0.6222 - acc: 0.8106 - val_loss: 1.5814 - val_acc: 0.4921\n",
      "Epoch 43/50\n",
      "50000/50000 [==============================] - 6s 114us/step - loss: 0.6050 - acc: 0.8180 - val_loss: 1.5835 - val_acc: 0.4954\n",
      "Epoch 44/50\n",
      "50000/50000 [==============================] - 5s 100us/step - loss: 0.5845 - acc: 0.8267 - val_loss: 1.5943 - val_acc: 0.4986\n",
      "Epoch 45/50\n",
      "50000/50000 [==============================] - 6s 110us/step - loss: 0.5695 - acc: 0.8321 - val_loss: 1.6144 - val_acc: 0.4919\n",
      "Epoch 46/50\n",
      "50000/50000 [==============================] - 5s 108us/step - loss: 0.5527 - acc: 0.8396 - val_loss: 1.6209 - val_acc: 0.4978\n",
      "Epoch 47/50\n",
      "50000/50000 [==============================] - 5s 104us/step - loss: 0.5363 - acc: 0.8449 - val_loss: 1.6375 - val_acc: 0.4976\n",
      "Epoch 48/50\n",
      "50000/50000 [==============================] - 5s 97us/step - loss: 0.5176 - acc: 0.8532 - val_loss: 1.6359 - val_acc: 0.4947\n",
      "Epoch 49/50\n",
      "50000/50000 [==============================] - 5s 97us/step - loss: 0.5005 - acc: 0.8586 - val_loss: 1.6540 - val_acc: 0.4866\n"
     ]
    },
    {
     "name": "stdout",
     "output_type": "stream",
     "text": [
      "Epoch 50/50\n",
      "50000/50000 [==============================] - 5s 95us/step - loss: 0.4855 - acc: 0.8653 - val_loss: 1.6667 - val_acc: 0.4912\n",
      "Epoch 00050: early stopping\n"
     ]
    }
   ],
   "source": [
    "# 載入 Callbacks\n",
    "\"\"\"Code Here\n",
    "設定 callbacks: Earlystop\n",
    "\"\"\"\n",
    "from keras.callbacks import EarlyStopping\n",
    "\n",
    "earlystop = EarlyStopping(monitor=\"val_loss\", \n",
    "                          patience=25, \n",
    "                          verbose=1\n",
    "                          )\n",
    "\n",
    "results = {}\n",
    "\"\"\"Code Here\n",
    "撰寫你的訓練流程並將結果用 dictionary 紀錄\n",
    "\"\"\"\n",
    "model = build_mlp(input_shape=x_train.shape[1:])\n",
    "model.summary()\n",
    "optimizer = keras.optimizers.SGD(lr=LEARNING_RATE, nesterov=True, momentum=MOMENTUM)\n",
    "model.compile(loss=\"categorical_crossentropy\", metrics=[\"accuracy\"], optimizer=optimizer)\n",
    "\n",
    "model.fit(x_train, y_train,\n",
    "          epochs=EPOCHS, \n",
    "          batch_size=BATCH_SIZE, \n",
    "          validation_data=(x_test, y_test), \n",
    "          shuffle=True,\n",
    "          callbacks=[earlystop]\n",
    "         )\n",
    "\n",
    "# Collect results\n",
    "train_loss = model.history.history[\"loss\"]\n",
    "valid_loss = model.history.history[\"val_loss\"]\n",
    "train_acc = model.history.history[\"acc\"]\n",
    "valid_acc = model.history.history[\"val_acc\"]"
   ]
  },
  {
   "cell_type": "code",
   "execution_count": 32,
   "metadata": {},
   "outputs": [
    {
     "data": {
      "image/png": "[encoded data removed]",
      "text/plain": [
       "<Figure size 432x288 with 1 Axes>"
      ]
     },
     "metadata": {
      "needs_background": "light"
     },
     "output_type": "display_data"
    },
    {
     "data": {
      "image/png": "[encoded data removed]",
      "text/plain": [
       "<Figure size 432x288 with 1 Axes>"
      ]
     },
     "metadata": {
      "needs_background": "light"
     },
     "output_type": "display_data"
    }
   ],
   "source": [
    "import matplotlib.pyplot as plt\n",
    "%matplotlib inline\n",
    "\"\"\"Code Here\n",
    "將結果繪出\n",
    "\"\"\"\n",
    "plt.plot(range(len(train_loss)), train_loss, label=\"train loss\")\n",
    "plt.plot(range(len(valid_loss)), valid_loss, label=\"valid loss\")\n",
    "plt.legend()\n",
    "plt.title(\"Loss\")\n",
    "plt.show()\n",
    "\n",
    "plt.plot(range(len(train_acc)), train_acc, label=\"train accuracy\")\n",
    "plt.plot(range(len(valid_acc)), valid_acc, label=\"valid accuracy\")\n",
    "plt.legend()\n",
    "plt.title(\"Accuracy\")\n",
    "plt.show()"
   ]
  },
  {
   "cell_type": "code",
   "execution_count": null,
   "metadata": {},
   "outputs": [],
   "source": []
  }
 ],
 "metadata": {
  "kernelspec": {
   "display_name": "Python 3",
   "language": "python",
   "name": "python3"
  },
  "language_info": {
   "codemirror_mode": {
    "name": "ipython",
    "version": 3
   },
   "file_extension": ".py",
   "mimetype": "text/x-python",
   "name": "python",
   "nbconvert_exporter": "python",
   "pygments_lexer": "ipython3",
   "version": "3.7.3"
  }
 },
 "nbformat": 4,
 "nbformat_minor": 2
}
