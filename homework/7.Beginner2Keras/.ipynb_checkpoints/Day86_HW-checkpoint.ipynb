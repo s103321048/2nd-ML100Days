{
 "cells": [
  {
   "cell_type": "markdown",
   "metadata": {},
   "source": [
    "## Work\n",
    "1. 試比較 save_best_only 與否的差異\n",
    "2. 請僅存入將 save_weights_only 設定為 True, 並嘗試 reset ipynb 並將模型與權重重新建回並預測 x_test"
   ]
  },
  {
   "cell_type": "code",
   "execution_count": 1,
   "metadata": {},
   "outputs": [
    {
     "name": "stderr",
     "output_type": "stream",
     "text": [
      "Using TensorFlow backend.\n"
     ]
    }
   ],
   "source": [
    "import os\n",
    "import keras\n",
    "\n",
    "# Disable GPU\n",
    "os.environ[\"CUDA_VISIBLE_DEVICES\"] = \"\""
   ]
  },
  {
   "cell_type": "code",
   "execution_count": 2,
   "metadata": {},
   "outputs": [],
   "source": [
    "train, test = keras.datasets.cifar10.load_data()"
   ]
  },
  {
   "cell_type": "code",
   "execution_count": 3,
   "metadata": {},
   "outputs": [],
   "source": [
    "## 資料前處理\n",
    "def preproc_x(x, flatten=True):\n",
    "    x = x / 255.\n",
    "    if flatten:\n",
    "        x = x.reshape((len(x), -1))\n",
    "    return x\n",
    "\n",
    "def preproc_y(y, num_classes=10):\n",
    "    if y.shape[-1] == 1:\n",
    "        y = keras.utils.to_categorical(y, num_classes)\n",
    "    return y    "
   ]
  },
  {
   "cell_type": "code",
   "execution_count": 4,
   "metadata": {},
   "outputs": [],
   "source": [
    "x_train, y_train = train\n",
    "x_test, y_test = test\n",
    "\n",
    "# Preproc the inputs\n",
    "x_train = preproc_x(x_train)\n",
    "x_test = preproc_x(x_test)\n",
    "\n",
    "# Preprc the outputs\n",
    "y_train = preproc_y(y_train)\n",
    "y_test = preproc_y(y_test)"
   ]
  },
  {
   "cell_type": "code",
   "execution_count": 5,
   "metadata": {},
   "outputs": [],
   "source": [
    "from keras.layers import BatchNormalization\n",
    "\n",
    "\"\"\"\n",
    "建立神經網路，並加入 BN layer\n",
    "\"\"\"\n",
    "def build_mlp(input_shape, output_units=10, num_neurons=[512, 256, 128]):\n",
    "    input_layer = keras.layers.Input(input_shape)\n",
    "    \n",
    "    for i, n_units in enumerate(num_neurons):\n",
    "        if i == 0:\n",
    "            x = keras.layers.Dense(units=n_units, \n",
    "                                   activation=\"relu\", \n",
    "                                   name=\"hidden_layer\"+str(i+1))(input_layer)\n",
    "            x = BatchNormalization()(x)\n",
    "        else:\n",
    "            x = keras.layers.Dense(units=n_units, \n",
    "                                   activation=\"relu\", \n",
    "                                   name=\"hidden_layer\"+str(i+1))(x)\n",
    "            x = BatchNormalization()(x)\n",
    "    \n",
    "    out = keras.layers.Dense(units=output_units, activation=\"softmax\", name=\"output\")(x)\n",
    "    \n",
    "    model = keras.models.Model(inputs=[input_layer], outputs=[out])\n",
    "    return model"
   ]
  },
  {
   "cell_type": "code",
   "execution_count": 6,
   "metadata": {},
   "outputs": [],
   "source": [
    "\"\"\"Code Here\n",
    "設定超參數\n",
    "\"\"\"\n",
    "LEARNING_RATE = 1e-3\n",
    "EPOCHS = 50\n",
    "BATCH_SIZE = 1024\n",
    "MOMENTUM = 0.95"
   ]
  },
  {
   "cell_type": "code",
   "execution_count": 8,
   "metadata": {},
   "outputs": [
    {
     "name": "stderr",
     "output_type": "stream",
     "text": [
      "WARNING: Logging before flag parsing goes to stderr.\n",
      "W0731 15:24:29.720315 4474848704 deprecation_wrapper.py:119] From /Users/dragonfly-mac/anaconda3/lib/python3.7/site-packages/keras/backend/tensorflow_backend.py:74: The name tf.get_default_graph is deprecated. Please use tf.compat.v1.get_default_graph instead.\n",
      "\n",
      "W0731 15:24:29.747614 4474848704 deprecation_wrapper.py:119] From /Users/dragonfly-mac/anaconda3/lib/python3.7/site-packages/keras/backend/tensorflow_backend.py:517: The name tf.placeholder is deprecated. Please use tf.compat.v1.placeholder instead.\n",
      "\n",
      "W0731 15:24:29.752310 4474848704 deprecation_wrapper.py:119] From /Users/dragonfly-mac/anaconda3/lib/python3.7/site-packages/keras/backend/tensorflow_backend.py:4138: The name tf.random_uniform is deprecated. Please use tf.random.uniform instead.\n",
      "\n",
      "W0731 15:24:29.837135 4474848704 deprecation_wrapper.py:119] From /Users/dragonfly-mac/anaconda3/lib/python3.7/site-packages/keras/backend/tensorflow_backend.py:133: The name tf.placeholder_with_default is deprecated. Please use tf.compat.v1.placeholder_with_default instead.\n",
      "\n",
      "W0731 15:24:30.110591 4474848704 deprecation_wrapper.py:119] From /Users/dragonfly-mac/anaconda3/lib/python3.7/site-packages/keras/optimizers.py:790: The name tf.train.Optimizer is deprecated. Please use tf.compat.v1.train.Optimizer instead.\n",
      "\n",
      "W0731 15:24:30.117435 4474848704 deprecation_wrapper.py:119] From /Users/dragonfly-mac/anaconda3/lib/python3.7/site-packages/keras/backend/tensorflow_backend.py:3295: The name tf.log is deprecated. Please use tf.math.log instead.\n",
      "\n",
      "W0731 15:24:30.200947 4474848704 deprecation.py:323] From /Users/dragonfly-mac/anaconda3/lib/python3.7/site-packages/tensorflow/python/ops/math_grad.py:1250: add_dispatch_support.<locals>.wrapper (from tensorflow.python.ops.array_ops) is deprecated and will be removed in a future version.\n",
      "Instructions for updating:\n",
      "Use tf.where in 2.0, which has the same broadcast rule as np.where\n"
     ]
    },
    {
     "name": "stdout",
     "output_type": "stream",
     "text": [
      "_________________________________________________________________\n",
      "Layer (type)                 Output Shape              Param #   \n",
      "=================================================================\n",
      "input_1 (InputLayer)         (None, 3072)              0         \n",
      "_________________________________________________________________\n",
      "hidden_layer1 (Dense)        (None, 512)               1573376   \n",
      "_________________________________________________________________\n",
      "batch_normalization_1 (Batch (None, 512)               2048      \n",
      "_________________________________________________________________\n",
      "hidden_layer2 (Dense)        (None, 256)               131328    \n",
      "_________________________________________________________________\n",
      "batch_normalization_2 (Batch (None, 256)               1024      \n",
      "_________________________________________________________________\n",
      "hidden_layer3 (Dense)        (None, 128)               32896     \n",
      "_________________________________________________________________\n",
      "batch_normalization_3 (Batch (None, 128)               512       \n",
      "_________________________________________________________________\n",
      "output (Dense)               (None, 10)                1290      \n",
      "=================================================================\n",
      "Total params: 1,742,474\n",
      "Trainable params: 1,740,682\n",
      "Non-trainable params: 1,792\n",
      "_________________________________________________________________\n",
      "Train on 50000 samples, validate on 10000 samples\n",
      "Epoch 1/50\n",
      "50000/50000 [==============================] - 6s 112us/step - loss: 2.2021 - acc: 0.2667 - val_loss: 2.0502 - val_acc: 0.3288\n",
      "Epoch 2/50\n",
      "50000/50000 [==============================] - 5s 102us/step - loss: 1.7452 - acc: 0.3905 - val_loss: 1.7790 - val_acc: 0.3989\n",
      "Epoch 3/50\n",
      "50000/50000 [==============================] - 5s 98us/step - loss: 1.6154 - acc: 0.4361 - val_loss: 1.6999 - val_acc: 0.4056\n",
      "Epoch 4/50\n",
      "50000/50000 [==============================] - 5s 98us/step - loss: 1.5422 - acc: 0.4603 - val_loss: 1.6474 - val_acc: 0.4215\n",
      "Epoch 5/50\n",
      "50000/50000 [==============================] - 5s 91us/step - loss: 1.4836 - acc: 0.4815 - val_loss: 1.6082 - val_acc: 0.4388\n",
      "Epoch 6/50\n",
      "50000/50000 [==============================] - 5s 91us/step - loss: 1.4351 - acc: 0.5006 - val_loss: 1.5613 - val_acc: 0.4520\n",
      "Epoch 7/50\n",
      "50000/50000 [==============================] - 5s 91us/step - loss: 1.3952 - acc: 0.5141 - val_loss: 1.5399 - val_acc: 0.4615\n",
      "Epoch 8/50\n",
      "50000/50000 [==============================] - 5s 91us/step - loss: 1.3578 - acc: 0.5293 - val_loss: 1.5323 - val_acc: 0.4623\n",
      "Epoch 9/50\n",
      "50000/50000 [==============================] - 5s 92us/step - loss: 1.3245 - acc: 0.5398 - val_loss: 1.5151 - val_acc: 0.4681\n",
      "Epoch 10/50\n",
      "50000/50000 [==============================] - 5s 93us/step - loss: 1.2972 - acc: 0.5509 - val_loss: 1.5112 - val_acc: 0.4701\n",
      "Epoch 11/50\n",
      "50000/50000 [==============================] - 5s 91us/step - loss: 1.2686 - acc: 0.5600 - val_loss: 1.4992 - val_acc: 0.4772\n",
      "Epoch 12/50\n",
      "50000/50000 [==============================] - 5s 93us/step - loss: 1.2403 - acc: 0.5709 - val_loss: 1.4880 - val_acc: 0.4777\n",
      "Epoch 13/50\n",
      "50000/50000 [==============================] - 5s 93us/step - loss: 1.2142 - acc: 0.5822 - val_loss: 1.4823 - val_acc: 0.4821\n",
      "Epoch 14/50\n",
      "50000/50000 [==============================] - 5s 93us/step - loss: 1.1907 - acc: 0.5891 - val_loss: 1.4734 - val_acc: 0.4846\n",
      "Epoch 15/50\n",
      "50000/50000 [==============================] - 5s 92us/step - loss: 1.1648 - acc: 0.5993 - val_loss: 1.4608 - val_acc: 0.4926\n",
      "Epoch 16/50\n",
      "50000/50000 [==============================] - 5s 93us/step - loss: 1.1402 - acc: 0.6071 - val_loss: 1.4727 - val_acc: 0.4846\n",
      "Epoch 17/50\n",
      "50000/50000 [==============================] - 5s 92us/step - loss: 1.1191 - acc: 0.6156 - val_loss: 1.4523 - val_acc: 0.4936\n",
      "Epoch 18/50\n",
      "50000/50000 [==============================] - 5s 92us/step - loss: 1.0965 - acc: 0.6244 - val_loss: 1.4669 - val_acc: 0.4900\n",
      "Epoch 19/50\n",
      "50000/50000 [==============================] - 5s 91us/step - loss: 1.0734 - acc: 0.6328 - val_loss: 1.4597 - val_acc: 0.4954\n",
      "Epoch 20/50\n",
      "50000/50000 [==============================] - 5s 92us/step - loss: 1.0531 - acc: 0.6409 - val_loss: 1.4621 - val_acc: 0.4938\n",
      "Epoch 21/50\n",
      "50000/50000 [==============================] - 5s 92us/step - loss: 1.0318 - acc: 0.6482 - val_loss: 1.4587 - val_acc: 0.4943\n",
      "Epoch 22/50\n",
      "50000/50000 [==============================] - 5s 92us/step - loss: 1.0102 - acc: 0.6560 - val_loss: 1.4639 - val_acc: 0.4975\n",
      "Epoch 23/50\n",
      "50000/50000 [==============================] - 5s 92us/step - loss: 0.9900 - acc: 0.6629 - val_loss: 1.4574 - val_acc: 0.4930\n",
      "Epoch 24/50\n",
      "50000/50000 [==============================] - 5s 92us/step - loss: 0.9669 - acc: 0.6726 - val_loss: 1.4651 - val_acc: 0.4990\n",
      "Epoch 25/50\n",
      "50000/50000 [==============================] - 5s 96us/step - loss: 0.9488 - acc: 0.6784 - val_loss: 1.4546 - val_acc: 0.4990\n",
      "Epoch 26/50\n",
      "50000/50000 [==============================] - 5s 93us/step - loss: 0.9274 - acc: 0.6886 - val_loss: 1.4650 - val_acc: 0.4982\n",
      "Epoch 27/50\n",
      "50000/50000 [==============================] - 5s 93us/step - loss: 0.9075 - acc: 0.6954 - val_loss: 1.4690 - val_acc: 0.5020\n",
      "Epoch 28/50\n",
      "50000/50000 [==============================] - 5s 93us/step - loss: 0.8897 - acc: 0.7022 - val_loss: 1.4743 - val_acc: 0.4983\n",
      "Epoch 29/50\n",
      "50000/50000 [==============================] - 5s 93us/step - loss: 0.8698 - acc: 0.7098 - val_loss: 1.4732 - val_acc: 0.4964\n",
      "Epoch 30/50\n",
      "50000/50000 [==============================] - 5s 92us/step - loss: 0.8492 - acc: 0.7174 - val_loss: 1.4918 - val_acc: 0.4960\n",
      "Epoch 31/50\n",
      "50000/50000 [==============================] - 5s 93us/step - loss: 0.8308 - acc: 0.7256 - val_loss: 1.4931 - val_acc: 0.4926\n",
      "Epoch 32/50\n",
      "50000/50000 [==============================] - 5s 92us/step - loss: 0.8094 - acc: 0.7349 - val_loss: 1.5005 - val_acc: 0.4987\n",
      "Epoch 33/50\n",
      "50000/50000 [==============================] - 5s 93us/step - loss: 0.7913 - acc: 0.7415 - val_loss: 1.5195 - val_acc: 0.4908\n",
      "Epoch 34/50\n",
      "50000/50000 [==============================] - 5s 95us/step - loss: 0.7715 - acc: 0.7500 - val_loss: 1.4995 - val_acc: 0.5020\n",
      "Epoch 35/50\n",
      "50000/50000 [==============================] - 5s 91us/step - loss: 0.7540 - acc: 0.7557 - val_loss: 1.5230 - val_acc: 0.4920\n",
      "Epoch 36/50\n",
      "50000/50000 [==============================] - 5s 92us/step - loss: 0.7356 - acc: 0.7634 - val_loss: 1.5180 - val_acc: 0.4966\n",
      "Epoch 37/50\n",
      "50000/50000 [==============================] - 5s 90us/step - loss: 0.7178 - acc: 0.7699 - val_loss: 1.5344 - val_acc: 0.5001\n",
      "Epoch 38/50\n",
      "50000/50000 [==============================] - 283s 6ms/step - loss: 0.6969 - acc: 0.7778 - val_loss: 1.5376 - val_acc: 0.4940\n",
      "Epoch 39/50\n",
      "50000/50000 [==============================] - 6s 115us/step - loss: 0.6804 - acc: 0.7854 - val_loss: 1.5411 - val_acc: 0.4899\n",
      "Epoch 40/50\n",
      "50000/50000 [==============================] - 6s 113us/step - loss: 0.6627 - acc: 0.7930 - val_loss: 1.5781 - val_acc: 0.4927\n",
      "Epoch 41/50\n",
      "50000/50000 [==============================] - 6s 119us/step - loss: 0.6448 - acc: 0.8008 - val_loss: 1.5660 - val_acc: 0.4942\n",
      "Epoch 42/50\n",
      "50000/50000 [==============================] - 6s 113us/step - loss: 0.6282 - acc: 0.8063 - val_loss: 1.5802 - val_acc: 0.4927\n",
      "Epoch 43/50\n",
      "50000/50000 [==============================] - 5s 107us/step - loss: 0.6097 - acc: 0.8136 - val_loss: 1.5869 - val_acc: 0.4966\n",
      "Epoch 44/50\n",
      "50000/50000 [==============================] - 5s 105us/step - loss: 0.5930 - acc: 0.8218 - val_loss: 1.5931 - val_acc: 0.4913\n",
      "Epoch 45/50\n",
      "50000/50000 [==============================] - 5s 97us/step - loss: 0.5755 - acc: 0.8276 - val_loss: 1.6139 - val_acc: 0.4909\n",
      "Epoch 46/50\n",
      "50000/50000 [==============================] - 5s 97us/step - loss: 0.5583 - acc: 0.8357 - val_loss: 1.6466 - val_acc: 0.4856\n",
      "Epoch 47/50\n",
      "50000/50000 [==============================] - 5s 98us/step - loss: 0.5417 - acc: 0.8402 - val_loss: 1.6731 - val_acc: 0.4778\n",
      "Epoch 48/50\n",
      "50000/50000 [==============================] - 5s 100us/step - loss: 0.5244 - acc: 0.8493 - val_loss: 1.6397 - val_acc: 0.4900\n",
      "Epoch 49/50\n",
      "50000/50000 [==============================] - 5s 97us/step - loss: 0.5104 - acc: 0.8544 - val_loss: 1.6634 - val_acc: 0.4870\n"
     ]
    },
    {
     "name": "stdout",
     "output_type": "stream",
     "text": [
      "Epoch 50/50\n",
      "50000/50000 [==============================] - 5s 95us/step - loss: 0.4951 - acc: 0.8599 - val_loss: 1.6713 - val_acc: 0.4898\n",
      "10000/10000 [==============================] - 1s 76us/step\n"
     ]
    }
   ],
   "source": [
    "# 載入 Callbacks\n",
    "\"\"\"Code Here\n",
    "設定 callbacks: model checkpoint\n",
    "\"\"\"\n",
    "from keras.callbacks import ModelCheckpoint\n",
    "\n",
    "model_ckpt = ModelCheckpoint(filepath=\"./tmp.h5\",\n",
    "                             monitor=\"val_loss\",\n",
    "                             save_best_only=True)\n",
    "\n",
    "results = {}\n",
    "\"\"\"Code Here\n",
    "撰寫你的訓練流程並將結果用 dictionary 紀錄\n",
    "\"\"\"\n",
    "model = build_mlp(input_shape=x_train.shape[1:])\n",
    "model.summary()\n",
    "optimizer = keras.optimizers.SGD(lr=LEARNING_RATE, nesterov=True, momentum=MOMENTUM)\n",
    "model.compile(loss=\"categorical_crossentropy\", metrics=[\"accuracy\"], optimizer=optimizer)\n",
    "\n",
    "model.fit(x_train, y_train,\n",
    "          epochs=EPOCHS,\n",
    "          batch_size=BATCH_SIZE,\n",
    "          validation_data=(x_test, y_test),\n",
    "          shuffle=True,\n",
    "          callbacks=[model_ckpt]\n",
    "         )\n",
    "\n",
    "# Collect results\n",
    "train_loss = model.history.history[\"loss\"]\n",
    "valid_loss = model.history.history[\"val_loss\"]\n",
    "train_acc = model.history.history[\"acc\"]\n",
    "valid_acc = model.history.history[\"val_acc\"]\n",
    "\n",
    "model = keras.models.load_model(\"./tmp.h5\")\n",
    "loss_loadback, acc_loadback = model.evaluate(x_test, y_test)"
   ]
  },
  {
   "cell_type": "code",
   "execution_count": 9,
   "metadata": {
    "scrolled": false
   },
   "outputs": [
    {
     "data": {
      "image/png": "[encoded data removed]",
      "text/plain": [
       "<Figure size 432x288 with 1 Axes>"
      ]
     },
     "metadata": {
      "needs_background": "light"
     },
     "output_type": "display_data"
    },
    {
     "data": {
      "image/png": "[encoded data removed]",
      "text/plain": [
       "<Figure size 432x288 with 1 Axes>"
      ]
     },
     "metadata": {
      "needs_background": "light"
     },
     "output_type": "display_data"
    }
   ],
   "source": [
    "import matplotlib.pyplot as plt\n",
    "%matplotlib inline\n",
    "\"\"\"Code Here\n",
    "將結果繪出\n",
    "\"\"\"\n",
    "import matplotlib.pyplot as plt\n",
    "%matplotlib inline\n",
    "\n",
    "plt.plot(range(len(train_loss)), train_loss, label=\"train loss\")\n",
    "plt.plot(range(len(valid_loss)), valid_loss, label=\"valid loss\")\n",
    "plt.hlines(y=loss_loadback, xmin=0, xmax=len(train_loss), colors='r', linestyles='--')\n",
    "plt.legend()\n",
    "plt.title(\"Loss\")\n",
    "plt.show()\n",
    "\n",
    "plt.plot(range(len(train_acc)), train_acc, label=\"train accuracy\")\n",
    "plt.plot(range(len(valid_acc)), valid_acc, label=\"valid accuracy\")\n",
    "plt.hlines(y=acc_loadback, xmin=0, xmax=len(train_loss), colors='r', linestyles='--')\n",
    "plt.legend()\n",
    "plt.title(\"Accuracy\")\n",
    "plt.show()"
   ]
  },
  {
   "cell_type": "code",
   "execution_count": null,
   "metadata": {},
   "outputs": [],
   "source": []
  }
 ],
 "metadata": {
  "kernelspec": {
   "display_name": "Python 3",
   "language": "python",
   "name": "python3"
  },
  "language_info": {
   "codemirror_mode": {
    "name": "ipython",
    "version": 3
   },
   "file_extension": ".py",
   "mimetype": "text/x-python",
   "name": "python",
   "nbconvert_exporter": "python",
   "pygments_lexer": "ipython3",
   "version": "3.7.3"
  }
 },
 "nbformat": 4,
 "nbformat_minor": 2
}
