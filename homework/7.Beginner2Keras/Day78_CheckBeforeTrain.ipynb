{
 "cells": [
  {
   "cell_type": "markdown",
   "metadata": {},
   "source": [
    "## 範例重點\n",
    "### 學習在模型開始前檢查各個環節\n",
    "1. 是否有 GPU 資源\n",
    "2. 將前處理轉為函式，統一處理訓練、驗證與測試集\n",
    "3. 將超參數變數化，易於重複使用函式、模型等"
   ]
  },
  {
   "cell_type": "code",
   "execution_count": 1,
   "metadata": {},
   "outputs": [
    {
     "name": "stdout",
     "output_type": "stream",
     "text": [
      "/bin/sh: nvidia-smi: command not found\r\n"
     ]
    }
   ],
   "source": [
    "## 確認硬體資源 (如果你是在 Linux, 若是在 Windows, 請參考 https://blog.csdn.net/idwtwt/article/details/78017565)\n",
    "!nvidia-smi"
   ]
  },
  {
   "cell_type": "code",
   "execution_count": 1,
   "metadata": {},
   "outputs": [
    {
     "name": "stderr",
     "output_type": "stream",
     "text": [
      "Using TensorFlow backend.\n"
     ]
    }
   ],
   "source": [
    "import os\n",
    "import keras\n",
    "\n",
    "# 本範例不需使用 GPU, 將 GPU 設定為 \"無\"\n",
    "os.environ[\"CUDA_VISIBLE_DEVICES\"] = \"0\""
   ]
  },
  {
   "cell_type": "code",
   "execution_count": 3,
   "metadata": {},
   "outputs": [],
   "source": [
    "# 從 Keras 的內建功能中，取得 train 與 test 資料集\n",
    "train, test = keras.datasets.cifar10.load_data()"
   ]
  },
  {
   "cell_type": "code",
   "execution_count": 4,
   "metadata": {},
   "outputs": [],
   "source": [
    "## 資料前處理\n",
    "def preproc_x(x, flatten=True):\n",
    "    x = x / 255.\n",
    "    if flatten:\n",
    "        x = x.reshape((len(x), -1))\n",
    "    return x\n",
    "\n",
    "def preproc_y(y, num_classes=10):\n",
    "    if y.shape[-1] == 1:\n",
    "        y = keras.utils.to_categorical(y, num_classes)\n",
    "    return y    "
   ]
  },
  {
   "cell_type": "code",
   "execution_count": 5,
   "metadata": {},
   "outputs": [],
   "source": [
    "x_train, y_train = train\n",
    "x_test, y_test = test\n",
    "\n",
    "# 資料前處理 - X 標準化\n",
    "x_train = preproc_x(x_train)\n",
    "x_test = preproc_x(x_test)\n",
    "\n",
    "# 資料前處理 -Y 轉成 onehot\n",
    "y_train = preproc_y(y_train)\n",
    "y_test = preproc_y(y_test)"
   ]
  },
  {
   "cell_type": "code",
   "execution_count": 6,
   "metadata": {},
   "outputs": [],
   "source": [
    "def build_mlp(input_shape, output_units=10, num_neurons=[512, 256, 128]):\n",
    "    input_layer = keras.layers.Input(input_shape)\n",
    "    \n",
    "    for i, n_units in enumerate(num_neurons):\n",
    "        if i == 0:\n",
    "            x = keras.layers.Dense(units=n_units, activation=\"relu\", name=\"hidden_layer\"+str(i+1))(input_layer)\n",
    "        else:\n",
    "            x = keras.layers.Dense(units=n_units, activation=\"relu\", name=\"hidden_layer\"+str(i+1))(x)\n",
    "    \n",
    "    out = keras.layers.Dense(units=output_units, activation=\"softmax\", name=\"output\")(x)\n",
    "    \n",
    "    model = keras.models.Model(inputs=[input_layer], outputs=[out])\n",
    "    return model"
   ]
  },
  {
   "cell_type": "code",
   "execution_count": 7,
   "metadata": {},
   "outputs": [
    {
     "name": "stderr",
     "output_type": "stream",
     "text": [
      "WARNING: Logging before flag parsing goes to stderr.\n",
      "W0718 13:11:33.711023 4676789696 deprecation_wrapper.py:119] From /Users/dragonfly-mac/anaconda3/lib/python3.7/site-packages/keras/backend/tensorflow_backend.py:74: The name tf.get_default_graph is deprecated. Please use tf.compat.v1.get_default_graph instead.\n",
      "\n",
      "W0718 13:11:33.771240 4676789696 deprecation_wrapper.py:119] From /Users/dragonfly-mac/anaconda3/lib/python3.7/site-packages/keras/backend/tensorflow_backend.py:517: The name tf.placeholder is deprecated. Please use tf.compat.v1.placeholder instead.\n",
      "\n",
      "W0718 13:11:33.798194 4676789696 deprecation_wrapper.py:119] From /Users/dragonfly-mac/anaconda3/lib/python3.7/site-packages/keras/backend/tensorflow_backend.py:4138: The name tf.random_uniform is deprecated. Please use tf.random.uniform instead.\n",
      "\n"
     ]
    },
    {
     "name": "stdout",
     "output_type": "stream",
     "text": [
      "_________________________________________________________________\n",
      "Layer (type)                 Output Shape              Param #   \n",
      "=================================================================\n",
      "input_1 (InputLayer)         (None, 3072)              0         \n",
      "_________________________________________________________________\n",
      "hidden_layer1 (Dense)        (None, 512)               1573376   \n",
      "_________________________________________________________________\n",
      "hidden_layer2 (Dense)        (None, 256)               131328    \n",
      "_________________________________________________________________\n",
      "hidden_layer3 (Dense)        (None, 128)               32896     \n",
      "_________________________________________________________________\n",
      "output (Dense)               (None, 10)                1290      \n",
      "=================================================================\n",
      "Total params: 1,738,890\n",
      "Trainable params: 1,738,890\n",
      "Non-trainable params: 0\n",
      "_________________________________________________________________\n"
     ]
    }
   ],
   "source": [
    "model = build_mlp(input_shape=x_train.shape[1:])\n",
    "model.summary()"
   ]
  },
  {
   "cell_type": "code",
   "execution_count": 8,
   "metadata": {},
   "outputs": [],
   "source": [
    "## 超參數設定\n",
    "LEARNING_RATE = 0.001\n",
    "EPOCHS = 100\n",
    "BATCH_SIZE = 256"
   ]
  },
  {
   "cell_type": "code",
   "execution_count": 9,
   "metadata": {},
   "outputs": [
    {
     "name": "stderr",
     "output_type": "stream",
     "text": [
      "W0718 13:11:33.922982 4676789696 deprecation_wrapper.py:119] From /Users/dragonfly-mac/anaconda3/lib/python3.7/site-packages/keras/optimizers.py:790: The name tf.train.Optimizer is deprecated. Please use tf.compat.v1.train.Optimizer instead.\n",
      "\n",
      "W0718 13:11:33.930412 4676789696 deprecation_wrapper.py:119] From /Users/dragonfly-mac/anaconda3/lib/python3.7/site-packages/keras/backend/tensorflow_backend.py:3295: The name tf.log is deprecated. Please use tf.math.log instead.\n",
      "\n"
     ]
    }
   ],
   "source": [
    "optimizer = keras.optimizers.Adam(lr=LEARNING_RATE)\n",
    "model.compile(loss=\"categorical_crossentropy\", metrics=[\"accuracy\"], optimizer=optimizer)"
   ]
  },
  {
   "cell_type": "code",
   "execution_count": 10,
   "metadata": {},
   "outputs": [
    {
     "name": "stderr",
     "output_type": "stream",
     "text": [
      "W0718 13:11:34.183289 4676789696 deprecation.py:323] From /Users/dragonfly-mac/anaconda3/lib/python3.7/site-packages/tensorflow/python/ops/math_grad.py:1250: add_dispatch_support.<locals>.wrapper (from tensorflow.python.ops.array_ops) is deprecated and will be removed in a future version.\n",
      "Instructions for updating:\n",
      "Use tf.where in 2.0, which has the same broadcast rule as np.where\n",
      "W0718 13:11:34.235977 4676789696 deprecation_wrapper.py:119] From /Users/dragonfly-mac/anaconda3/lib/python3.7/site-packages/keras/backend/tensorflow_backend.py:986: The name tf.assign_add is deprecated. Please use tf.compat.v1.assign_add instead.\n",
      "\n"
     ]
    },
    {
     "name": "stdout",
     "output_type": "stream",
     "text": [
      "Train on 50000 samples, validate on 10000 samples\n",
      "Epoch 1/100\n",
      "50000/50000 [==============================] - 7s 132us/step - loss: 1.9194 - acc: 0.3065 - val_loss: 1.8007 - val_acc: 0.3515\n",
      "Epoch 2/100\n",
      "50000/50000 [==============================] - 6s 123us/step - loss: 1.7117 - acc: 0.3861 - val_loss: 1.6603 - val_acc: 0.3980\n",
      "Epoch 3/100\n",
      "50000/50000 [==============================] - 7s 132us/step - loss: 1.6166 - acc: 0.4225 - val_loss: 1.6296 - val_acc: 0.4192\n",
      "Epoch 4/100\n",
      "50000/50000 [==============================] - 7s 136us/step - loss: 1.5589 - acc: 0.4452 - val_loss: 1.5752 - val_acc: 0.4361\n",
      "Epoch 5/100\n",
      "50000/50000 [==============================] - 6s 123us/step - loss: 1.5126 - acc: 0.4610 - val_loss: 1.5421 - val_acc: 0.4548\n",
      "Epoch 6/100\n",
      "50000/50000 [==============================] - 6s 112us/step - loss: 1.4720 - acc: 0.4739 - val_loss: 1.4824 - val_acc: 0.4698\n",
      "Epoch 7/100\n",
      "50000/50000 [==============================] - 6s 118us/step - loss: 1.4501 - acc: 0.4837 - val_loss: 1.4509 - val_acc: 0.4817\n",
      "Epoch 8/100\n",
      "50000/50000 [==============================] - 6s 123us/step - loss: 1.4081 - acc: 0.4973 - val_loss: 1.4378 - val_acc: 0.4932\n",
      "Epoch 9/100\n",
      "50000/50000 [==============================] - 7s 137us/step - loss: 1.3866 - acc: 0.5041 - val_loss: 1.4524 - val_acc: 0.4848\n",
      "Epoch 10/100\n",
      "50000/50000 [==============================] - 6s 113us/step - loss: 1.3628 - acc: 0.5155 - val_loss: 1.4136 - val_acc: 0.5007\n",
      "Epoch 11/100\n",
      "50000/50000 [==============================] - 6s 110us/step - loss: 1.3298 - acc: 0.5266 - val_loss: 1.4231 - val_acc: 0.4948\n",
      "Epoch 12/100\n",
      "50000/50000 [==============================] - 5s 107us/step - loss: 1.3054 - acc: 0.5355 - val_loss: 1.4034 - val_acc: 0.5044\n",
      "Epoch 13/100\n",
      "50000/50000 [==============================] - 5s 107us/step - loss: 1.2825 - acc: 0.5447 - val_loss: 1.4048 - val_acc: 0.5043\n",
      "Epoch 14/100\n",
      "50000/50000 [==============================] - 5s 107us/step - loss: 1.2574 - acc: 0.5511 - val_loss: 1.3954 - val_acc: 0.5109\n",
      "Epoch 15/100\n",
      "50000/50000 [==============================] - 5s 106us/step - loss: 1.2383 - acc: 0.5587 - val_loss: 1.3626 - val_acc: 0.5191\n",
      "Epoch 16/100\n",
      "50000/50000 [==============================] - 5s 107us/step - loss: 1.2232 - acc: 0.5650 - val_loss: 1.4014 - val_acc: 0.5087\n",
      "Epoch 17/100\n",
      "50000/50000 [==============================] - 5s 107us/step - loss: 1.2008 - acc: 0.5713 - val_loss: 1.3957 - val_acc: 0.5100\n",
      "Epoch 18/100\n",
      "50000/50000 [==============================] - 5s 107us/step - loss: 1.1823 - acc: 0.5802 - val_loss: 1.3991 - val_acc: 0.5071\n",
      "Epoch 19/100\n",
      "50000/50000 [==============================] - 5s 108us/step - loss: 1.1633 - acc: 0.5876 - val_loss: 1.4120 - val_acc: 0.5059\n",
      "Epoch 20/100\n",
      "50000/50000 [==============================] - 6s 114us/step - loss: 1.1340 - acc: 0.5951 - val_loss: 1.4391 - val_acc: 0.5039\n",
      "Epoch 21/100\n",
      "50000/50000 [==============================] - 5s 107us/step - loss: 1.1194 - acc: 0.6001 - val_loss: 1.3911 - val_acc: 0.5183\n",
      "Epoch 22/100\n",
      "50000/50000 [==============================] - 6s 114us/step - loss: 1.0985 - acc: 0.6075 - val_loss: 1.4068 - val_acc: 0.5090\n",
      "Epoch 23/100\n",
      "50000/50000 [==============================] - 6s 119us/step - loss: 1.0709 - acc: 0.6191 - val_loss: 1.3719 - val_acc: 0.5250\n",
      "Epoch 24/100\n",
      "50000/50000 [==============================] - 7s 139us/step - loss: 1.0589 - acc: 0.6213 - val_loss: 1.3763 - val_acc: 0.5280\n",
      "Epoch 25/100\n",
      "50000/50000 [==============================] - 6s 127us/step - loss: 1.0341 - acc: 0.6310 - val_loss: 1.4332 - val_acc: 0.5076\n",
      "Epoch 26/100\n",
      "50000/50000 [==============================] - 6s 115us/step - loss: 1.0336 - acc: 0.6292 - val_loss: 1.4067 - val_acc: 0.5202\n",
      "Epoch 27/100\n",
      "50000/50000 [==============================] - 6s 115us/step - loss: 1.0060 - acc: 0.6407 - val_loss: 1.4118 - val_acc: 0.5262\n",
      "Epoch 28/100\n",
      "50000/50000 [==============================] - 6s 125us/step - loss: 0.9839 - acc: 0.6511 - val_loss: 1.4157 - val_acc: 0.5228\n",
      "Epoch 29/100\n",
      "50000/50000 [==============================] - 6s 121us/step - loss: 0.9765 - acc: 0.6528 - val_loss: 1.4142 - val_acc: 0.5282\n",
      "Epoch 30/100\n",
      "50000/50000 [==============================] - 6s 114us/step - loss: 0.9420 - acc: 0.6627 - val_loss: 1.4276 - val_acc: 0.5305\n",
      "Epoch 31/100\n",
      "50000/50000 [==============================] - 6s 116us/step - loss: 0.9295 - acc: 0.6670 - val_loss: 1.4384 - val_acc: 0.5217\n",
      "Epoch 32/100\n",
      "50000/50000 [==============================] - 6s 123us/step - loss: 0.9183 - acc: 0.6720 - val_loss: 1.5077 - val_acc: 0.5095\n",
      "Epoch 33/100\n",
      "50000/50000 [==============================] - 6s 121us/step - loss: 0.9036 - acc: 0.6753 - val_loss: 1.4821 - val_acc: 0.5199\n",
      "Epoch 34/100\n",
      "50000/50000 [==============================] - 6s 113us/step - loss: 0.8836 - acc: 0.6840 - val_loss: 1.5086 - val_acc: 0.5175\n",
      "Epoch 35/100\n",
      "50000/50000 [==============================] - 6s 111us/step - loss: 0.8634 - acc: 0.6933 - val_loss: 1.4753 - val_acc: 0.5237\n",
      "Epoch 36/100\n",
      "50000/50000 [==============================] - 5s 106us/step - loss: 0.8407 - acc: 0.7011 - val_loss: 1.5103 - val_acc: 0.5133\n",
      "Epoch 37/100\n",
      "50000/50000 [==============================] - 5s 107us/step - loss: 0.8313 - acc: 0.7021 - val_loss: 1.5074 - val_acc: 0.5293\n",
      "Epoch 38/100\n",
      "50000/50000 [==============================] - 5s 108us/step - loss: 0.8249 - acc: 0.7074 - val_loss: 1.5838 - val_acc: 0.5041\n",
      "Epoch 39/100\n",
      "50000/50000 [==============================] - 6s 112us/step - loss: 0.8028 - acc: 0.7145 - val_loss: 1.5672 - val_acc: 0.5175\n",
      "Epoch 40/100\n",
      "50000/50000 [==============================] - 5s 105us/step - loss: 0.7936 - acc: 0.7181 - val_loss: 1.5801 - val_acc: 0.5184\n",
      "Epoch 41/100\n",
      "50000/50000 [==============================] - 5s 105us/step - loss: 0.7750 - acc: 0.7220 - val_loss: 1.6130 - val_acc: 0.5128\n",
      "Epoch 42/100\n",
      "50000/50000 [==============================] - 5s 104us/step - loss: 0.7550 - acc: 0.7300 - val_loss: 1.6388 - val_acc: 0.5141\n",
      "Epoch 43/100\n",
      "50000/50000 [==============================] - 5s 104us/step - loss: 0.7385 - acc: 0.7354 - val_loss: 1.6483 - val_acc: 0.5118\n",
      "Epoch 44/100\n",
      "50000/50000 [==============================] - 5s 104us/step - loss: 0.7302 - acc: 0.7394 - val_loss: 1.6454 - val_acc: 0.5126\n",
      "Epoch 45/100\n",
      "50000/50000 [==============================] - 5s 105us/step - loss: 0.7115 - acc: 0.7463 - val_loss: 1.6806 - val_acc: 0.5120\n",
      "Epoch 46/100\n",
      "50000/50000 [==============================] - 5s 108us/step - loss: 0.7066 - acc: 0.7488 - val_loss: 1.7019 - val_acc: 0.5127\n",
      "Epoch 47/100\n",
      "50000/50000 [==============================] - 6s 112us/step - loss: 0.6946 - acc: 0.7517 - val_loss: 1.6971 - val_acc: 0.5249\n",
      "Epoch 48/100\n",
      "50000/50000 [==============================] - 6s 122us/step - loss: 0.6718 - acc: 0.7597 - val_loss: 1.7249 - val_acc: 0.5200\n",
      "Epoch 49/100\n",
      "50000/50000 [==============================] - 7s 139us/step - loss: 0.6488 - acc: 0.7685 - val_loss: 1.7578 - val_acc: 0.5175\n",
      "Epoch 50/100\n",
      "50000/50000 [==============================] - 7s 143us/step - loss: 0.6540 - acc: 0.7674 - val_loss: 1.7605 - val_acc: 0.5167\n",
      "Epoch 51/100\n",
      "50000/50000 [==============================] - 7s 131us/step - loss: 0.6347 - acc: 0.7722 - val_loss: 1.7896 - val_acc: 0.5108\n",
      "Epoch 52/100\n",
      "50000/50000 [==============================] - 6s 130us/step - loss: 0.6277 - acc: 0.7782 - val_loss: 1.8420 - val_acc: 0.5068\n",
      "Epoch 53/100\n",
      "50000/50000 [==============================] - 6s 114us/step - loss: 0.6111 - acc: 0.7828 - val_loss: 1.8416 - val_acc: 0.5163\n",
      "Epoch 54/100\n",
      "50000/50000 [==============================] - 6s 115us/step - loss: 0.5928 - acc: 0.7889 - val_loss: 1.8690 - val_acc: 0.5088\n",
      "Epoch 55/100\n",
      "50000/50000 [==============================] - 6s 112us/step - loss: 0.5920 - acc: 0.7884 - val_loss: 1.8693 - val_acc: 0.5129\n",
      "Epoch 56/100\n",
      "50000/50000 [==============================] - 6s 110us/step - loss: 0.5795 - acc: 0.7935 - val_loss: 1.9424 - val_acc: 0.5062\n",
      "Epoch 57/100\n",
      "50000/50000 [==============================] - 6s 111us/step - loss: 0.5663 - acc: 0.7965 - val_loss: 1.9686 - val_acc: 0.5048\n",
      "Epoch 58/100\n",
      "50000/50000 [==============================] - 5s 109us/step - loss: 0.5508 - acc: 0.8040 - val_loss: 2.0115 - val_acc: 0.5046\n",
      "Epoch 59/100\n",
      "50000/50000 [==============================] - 6s 114us/step - loss: 0.5538 - acc: 0.8025 - val_loss: 1.9621 - val_acc: 0.5143\n",
      "Epoch 60/100\n",
      "50000/50000 [==============================] - 6s 116us/step - loss: 0.5345 - acc: 0.8088 - val_loss: 2.0255 - val_acc: 0.5096\n",
      "Epoch 61/100\n",
      "50000/50000 [==============================] - 6s 111us/step - loss: 0.5273 - acc: 0.8113 - val_loss: 2.0389 - val_acc: 0.5083\n",
      "Epoch 62/100\n",
      "50000/50000 [==============================] - 5s 106us/step - loss: 0.5196 - acc: 0.8153 - val_loss: 2.0884 - val_acc: 0.5132\n",
      "Epoch 63/100\n",
      "50000/50000 [==============================] - 5s 105us/step - loss: 0.4929 - acc: 0.8245 - val_loss: 2.1012 - val_acc: 0.5074\n",
      "Epoch 64/100\n",
      "50000/50000 [==============================] - 5s 105us/step - loss: 0.4904 - acc: 0.8247 - val_loss: 2.1045 - val_acc: 0.5071\n",
      "Epoch 65/100\n",
      "50000/50000 [==============================] - 5s 105us/step - loss: 0.4844 - acc: 0.8273 - val_loss: 2.2326 - val_acc: 0.5030\n",
      "Epoch 66/100\n",
      "50000/50000 [==============================] - 5s 105us/step - loss: 0.4818 - acc: 0.8272 - val_loss: 2.1914 - val_acc: 0.5048\n",
      "Epoch 67/100\n",
      "50000/50000 [==============================] - 5s 105us/step - loss: 0.4881 - acc: 0.8262 - val_loss: 2.2025 - val_acc: 0.4995\n",
      "Epoch 68/100\n",
      "50000/50000 [==============================] - 6s 115us/step - loss: 0.4612 - acc: 0.8358 - val_loss: 2.2152 - val_acc: 0.5005\n",
      "Epoch 69/100\n",
      "50000/50000 [==============================] - 7s 140us/step - loss: 0.4612 - acc: 0.8346 - val_loss: 2.3242 - val_acc: 0.5015\n",
      "Epoch 70/100\n",
      "50000/50000 [==============================] - 6s 126us/step - loss: 0.4575 - acc: 0.8360 - val_loss: 2.2987 - val_acc: 0.5093\n",
      "Epoch 71/100\n",
      "50000/50000 [==============================] - 6s 117us/step - loss: 0.4511 - acc: 0.8390 - val_loss: 2.2968 - val_acc: 0.5019\n",
      "Epoch 72/100\n",
      "50000/50000 [==============================] - 7s 133us/step - loss: 0.4258 - acc: 0.8465 - val_loss: 2.3539 - val_acc: 0.5045\n",
      "Epoch 73/100\n",
      "50000/50000 [==============================] - 7s 133us/step - loss: 0.4364 - acc: 0.8437 - val_loss: 2.3842 - val_acc: 0.5039\n",
      "Epoch 74/100\n",
      "50000/50000 [==============================] - 8s 153us/step - loss: 0.4201 - acc: 0.8487 - val_loss: 2.3733 - val_acc: 0.5049\n",
      "Epoch 75/100\n",
      "50000/50000 [==============================] - 7s 147us/step - loss: 0.4003 - acc: 0.8575 - val_loss: 2.4767 - val_acc: 0.5055\n",
      "Epoch 76/100\n",
      "50000/50000 [==============================] - 6s 112us/step - loss: 0.3898 - acc: 0.8634 - val_loss: 2.4673 - val_acc: 0.5064\n",
      "Epoch 77/100\n",
      "50000/50000 [==============================] - 5s 106us/step - loss: 0.4168 - acc: 0.8521 - val_loss: 2.5677 - val_acc: 0.5039\n",
      "Epoch 78/100\n",
      "50000/50000 [==============================] - 5s 106us/step - loss: 0.4028 - acc: 0.8551 - val_loss: 2.5662 - val_acc: 0.4982\n",
      "Epoch 79/100\n",
      "50000/50000 [==============================] - 5s 106us/step - loss: 0.4018 - acc: 0.8575 - val_loss: 2.5049 - val_acc: 0.5016\n",
      "Epoch 80/100\n",
      "50000/50000 [==============================] - 5s 105us/step - loss: 0.3835 - acc: 0.8639 - val_loss: 2.5388 - val_acc: 0.5025\n",
      "Epoch 81/100\n",
      "50000/50000 [==============================] - 5s 107us/step - loss: 0.3807 - acc: 0.8649 - val_loss: 2.5765 - val_acc: 0.4998\n",
      "Epoch 82/100\n",
      "50000/50000 [==============================] - 5s 106us/step - loss: 0.4015 - acc: 0.8561 - val_loss: 2.6126 - val_acc: 0.5037\n",
      "Epoch 83/100\n",
      "50000/50000 [==============================] - 5s 106us/step - loss: 0.3680 - acc: 0.8668 - val_loss: 2.5791 - val_acc: 0.5061\n",
      "Epoch 84/100\n",
      "50000/50000 [==============================] - 5s 106us/step - loss: 0.3501 - acc: 0.8737 - val_loss: 2.6317 - val_acc: 0.5089\n",
      "Epoch 85/100\n",
      "50000/50000 [==============================] - 6s 124us/step - loss: 0.3492 - acc: 0.8760 - val_loss: 2.7031 - val_acc: 0.5040\n",
      "Epoch 86/100\n",
      "50000/50000 [==============================] - 6s 116us/step - loss: 0.3707 - acc: 0.8658 - val_loss: 2.6987 - val_acc: 0.5035\n",
      "Epoch 87/100\n",
      "50000/50000 [==============================] - 6s 116us/step - loss: 0.3471 - acc: 0.8772 - val_loss: 2.7398 - val_acc: 0.5012\n",
      "Epoch 88/100\n",
      "50000/50000 [==============================] - 6s 115us/step - loss: 0.3443 - acc: 0.8747 - val_loss: 2.6975 - val_acc: 0.5082\n",
      "Epoch 89/100\n",
      "50000/50000 [==============================] - 6s 126us/step - loss: 0.3272 - acc: 0.8827 - val_loss: 2.7965 - val_acc: 0.4979\n",
      "Epoch 90/100\n",
      "50000/50000 [==============================] - 6s 111us/step - loss: 0.3201 - acc: 0.8852 - val_loss: 2.8802 - val_acc: 0.4936\n",
      "Epoch 91/100\n",
      "50000/50000 [==============================] - 6s 125us/step - loss: 0.3434 - acc: 0.8766 - val_loss: 2.8112 - val_acc: 0.5011\n",
      "Epoch 92/100\n",
      "50000/50000 [==============================] - 6s 119us/step - loss: 0.3248 - acc: 0.8820 - val_loss: 2.8724 - val_acc: 0.4955\n",
      "Epoch 93/100\n",
      "50000/50000 [==============================] - 6s 112us/step - loss: 0.3212 - acc: 0.8841 - val_loss: 2.8542 - val_acc: 0.5054\n",
      "Epoch 94/100\n",
      "50000/50000 [==============================] - 6s 121us/step - loss: 0.3037 - acc: 0.8906 - val_loss: 2.9318 - val_acc: 0.5000\n",
      "Epoch 95/100\n",
      "50000/50000 [==============================] - 6s 123us/step - loss: 0.3202 - acc: 0.8826 - val_loss: 2.9196 - val_acc: 0.5063\n",
      "Epoch 96/100\n",
      "50000/50000 [==============================] - 6s 121us/step - loss: 0.3062 - acc: 0.8900 - val_loss: 2.9054 - val_acc: 0.5029\n",
      "Epoch 97/100\n",
      "50000/50000 [==============================] - 7s 131us/step - loss: 0.2896 - acc: 0.8972 - val_loss: 2.9510 - val_acc: 0.5002\n",
      "Epoch 98/100\n",
      "50000/50000 [==============================] - 7s 132us/step - loss: 0.3208 - acc: 0.8851 - val_loss: 2.9676 - val_acc: 0.4963\n",
      "Epoch 99/100\n",
      "50000/50000 [==============================] - 7s 133us/step - loss: 0.2931 - acc: 0.8937 - val_loss: 2.9704 - val_acc: 0.5031\n",
      "Epoch 100/100\n",
      "50000/50000 [==============================] - 6s 116us/step - loss: 0.2945 - acc: 0.8931 - val_loss: 3.0701 - val_acc: 0.4926\n"
     ]
    },
    {
     "data": {
      "text/plain": [
       "<keras.callbacks.History at 0x11120f5c0>"
      ]
     },
     "execution_count": 10,
     "metadata": {},
     "output_type": "execute_result"
    }
   ],
   "source": [
    "model.fit(x_train, y_train, \n",
    "          epochs=EPOCHS, \n",
    "          batch_size=BATCH_SIZE, \n",
    "          validation_data=(x_test, y_test), \n",
    "          shuffle=True)"
   ]
  },
  {
   "cell_type": "code",
   "execution_count": 12,
   "metadata": {},
   "outputs": [
    {
     "data": {
      "image/png": "[encoded data removed]",
      "text/plain": [
       "<Figure size 432x288 with 1 Axes>"
      ]
     },
     "metadata": {
      "needs_background": "light"
     },
     "output_type": "display_data"
    },
    {
     "data": {
      "image/png": "[encoded data removed]",
      "text/plain": [
       "<Figure size 432x288 with 1 Axes>"
      ]
     },
     "metadata": {
      "needs_background": "light"
     },
     "output_type": "display_data"
    }
   ],
   "source": [
    "# 訓練模型並檢視驗證集的結果\n",
    "import matplotlib.pyplot as plt\n",
    "\n",
    "train_loss = model.history.history[\"loss\"]\n",
    "valid_loss = model.history.history[\"val_loss\"]\n",
    "\n",
    "train_acc = model.history.history[\"acc\"]\n",
    "valid_acc = model.history.history[\"val_acc\"]\n",
    "\n",
    "plt.plot(range(len(train_loss)), train_loss, label=\"train loss\")\n",
    "plt.plot(range(len(valid_loss)), valid_loss, label=\"valid loss\")\n",
    "plt.legend()\n",
    "plt.title(\"Loss\")\n",
    "plt.show()\n",
    "\n",
    "plt.plot(range(len(train_acc)), train_acc, label=\"train accuracy\")\n",
    "plt.plot(range(len(valid_acc)), valid_acc, label=\"valid accuracy\")\n",
    "plt.legend()\n",
    "plt.title(\"Accuracy\")\n",
    "plt.show()"
   ]
  },
  {
   "cell_type": "markdown",
   "metadata": {},
   "source": [
    "## Work\n",
    "1. 請嘗試將 preproc_x 替換成以每筆資料的 min/max 進行標準化至 -1 ~ 1 間，再進行訓練\n",
    "2. 請嘗試將 mlp 疊更深 (e.g 5~10 層)，進行訓練後觀察 learning curve 的走勢\n",
    "3. (optional) 請改用 GPU 進行訓練 (如果你有 GPU 的話)，比較使用 CPU 與 GPU 的訓練速度"
   ]
  }
 ],
 "metadata": {
  "kernelspec": {
   "display_name": "Python 3",
   "language": "python",
   "name": "python3"
  },
  "language_info": {
   "codemirror_mode": {
    "name": "ipython",
    "version": 3
   },
   "file_extension": ".py",
   "mimetype": "text/x-python",
   "name": "python",
   "nbconvert_exporter": "python",
   "pygments_lexer": "ipython3",
   "version": "3.7.3"
  }
 },
 "nbformat": 4,
 "nbformat_minor": 2
}
