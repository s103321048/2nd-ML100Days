{
 "cells": [
  {
   "cell_type": "markdown",
   "metadata": {},
   "source": [
    "## Work\n",
    "1. 請嘗試將 preproc_x 替換成以每筆資料的 min/max 進行標準化至 -1 ~ 1 間，再進行訓練\n",
    "2. 請嘗試將 mlp 疊更深 (e.g 5~10 層)，進行訓練後觀察 learning curve 的走勢\n",
    "3. (optional) 請改用 GPU 進行訓練 (如果你有 GPU 的話)，比較使用 CPU 與 GPU 的訓練速度"
   ]
  },
  {
   "cell_type": "code",
   "execution_count": 1,
   "metadata": {},
   "outputs": [
    {
     "name": "stderr",
     "output_type": "stream",
     "text": [
      "'nvidia-smi' 不是內部或外部命令、可執行的程式或批次檔。\n"
     ]
    }
   ],
   "source": [
    "## \n",
    "\"\"\"\n",
    "Your code here (optional)\n",
    "確認硬體資源\n",
    "\"\"\"\n",
    "!nvidia-smi"
   ]
  },
  {
   "cell_type": "code",
   "execution_count": 15,
   "metadata": {},
   "outputs": [
    {
     "data": {
      "text/plain": [
       "environ{'TERM_PROGRAM': 'Apple_Terminal',\n",
       "        'TERM': 'xterm-color',\n",
       "        'SHELL': '/bin/bash',\n",
       "        'TMPDIR': '/var/folders/6x/jj4ssl0d6b54gdfq9c3md81r0000gn/T/',\n",
       "        'Apple_PubSub_Socket_Render': '/private/tmp/com.apple.launchd.0S3eVosqBY/Render',\n",
       "        'CONDA_SHLVL': '1',\n",
       "        'TERM_PROGRAM_VERSION': '421.2',\n",
       "        'CONDA_PROMPT_MODIFIER': '(base) ',\n",
       "        'TERM_SESSION_ID': '3692FE9E-C11C-4748-AC09-0EF05DF7B20C',\n",
       "        'LC_ALL': 'en_US.UTF-8',\n",
       "        'USER': 'dragonfly-mac',\n",
       "        'CONDA_EXE': '/Users/dragonfly-mac/anaconda3/bin/conda',\n",
       "        'SSH_AUTH_SOCK': '/private/tmp/com.apple.launchd.DyDBgyRMNH/Listeners',\n",
       "        '_CE_CONDA': '',\n",
       "        'CONDA_ROOT': '/Users/dragonfly-mac/anaconda3',\n",
       "        'PATH': '/Users/dragonfly-mac/anaconda3/bin:/usr/local/bin:/usr/bin:/bin:/usr/sbin:/sbin',\n",
       "        'CONDA_PREFIX': '/Users/dragonfly-mac/anaconda3',\n",
       "        'PWD': '/Users/dragonfly-mac',\n",
       "        'LANG': 'zh_TW.UTF-8',\n",
       "        'XPC_FLAGS': '0x0',\n",
       "        '_CE_M': '',\n",
       "        'XPC_SERVICE_NAME': '0',\n",
       "        'SHLVL': '4',\n",
       "        'HOME': '/Users/dragonfly-mac',\n",
       "        'QT_API': 'pyqt5',\n",
       "        'CONDA_PYTHON_EXE': '/Users/dragonfly-mac/anaconda3/bin/python',\n",
       "        'LOGNAME': 'dragonfly-mac',\n",
       "        'LC_CTYPE': 'UTF-8',\n",
       "        'CONDA_DEFAULT_ENV': 'base',\n",
       "        '_': '/Users/dragonfly-mac/anaconda3/bin/jupyter-notebook',\n",
       "        'JPY_PARENT_PID': '22476',\n",
       "        'CLICOLOR': '1',\n",
       "        'PAGER': 'cat',\n",
       "        'GIT_PAGER': 'cat',\n",
       "        'MPLBACKEND': 'module://ipykernel.pylab.backend_inline',\n",
       "        'CUDA_VISIBLE_DEVICES': '0'}"
      ]
     },
     "execution_count": 15,
     "metadata": {},
     "output_type": "execute_result"
    }
   ],
   "source": [
    "import os\n",
    "import keras\n",
    "\n",
    "# 請嘗試設定 GPU：os.environ\n",
    "os.environ\n",
    "#os.environ[\"CUDA_VISIBLE_DEVICES\"] = \"0\""
   ]
  },
  {
   "cell_type": "code",
   "execution_count": 3,
   "metadata": {},
   "outputs": [],
   "source": [
    "train, test = keras.datasets.cifar10.load_data()"
   ]
  },
  {
   "cell_type": "code",
   "execution_count": 4,
   "metadata": {},
   "outputs": [],
   "source": [
    "## 資料前處理\n",
    "\"\"\"\n",
    "Your code here   minmax？？？？？？\n",
    "\"\"\"\n",
    "def preproc_x(x, flatten=True):\n",
    "    x = x / 255.\n",
    "    if flatten:\n",
    "        x = x.reshape((len(x), -1))\n",
    "    return x\n",
    "\n",
    "def preproc_y(y, num_classes=10):\n",
    "    if y.shape[-1] == 1:\n",
    "        y = keras.utils.to_categorical(y, num_classes)\n",
    "    return y    "
   ]
  },
  {
   "cell_type": "code",
   "execution_count": 5,
   "metadata": {},
   "outputs": [],
   "source": [
    "x_train, y_train = train\n",
    "x_test, y_test = test\n",
    "\n",
    "# Preproc the inputs\n",
    "x_train = preproc_x(x_train)\n",
    "x_test = preproc_x(x_test)\n",
    "\n",
    "# Preprc the outputs\n",
    "y_train = preproc_y(y_train)\n",
    "y_test = preproc_y(y_test)"
   ]
  },
  {
   "cell_type": "code",
   "execution_count": 7,
   "metadata": {},
   "outputs": [],
   "source": [
    "\"\"\"Code Here\n",
    "建立你的神經網路\n",
    "\"\"\"\n",
    "def build_mlp(input_shape, output_units=10, num_neurons=[1024, 512, 256, 128, 64, 32, 32, 32 ,32]):\n",
    "    input_layer = keras.layers.Input(input_shape)\n",
    "    \n",
    "    for i, n_units in enumerate(num_neurons):\n",
    "        if i == 0:\n",
    "            x = keras.layers.Dense(units=n_units, activation=\"relu\", name=\"hidden_layer\"+str(i+1))(input_layer)\n",
    "        else:\n",
    "            x = keras.layers.Dense(units=n_units, activation=\"relu\", name=\"hidden_layer\"+str(i+1))(x)\n",
    "    \n",
    "    out = keras.layers.Dense(units=output_units, activation=\"softmax\", name=\"output\")(x)\n",
    "    \n",
    "    model = keras.models.Model(inputs=[input_layer], outputs=[out])\n",
    "    return model"
   ]
  },
  {
   "cell_type": "code",
   "execution_count": 8,
   "metadata": {},
   "outputs": [
    {
     "name": "stderr",
     "output_type": "stream",
     "text": [
      "WARNING: Logging before flag parsing goes to stderr.\n",
      "W0718 14:08:41.775878 4575983040 deprecation_wrapper.py:119] From /Users/dragonfly-mac/anaconda3/lib/python3.7/site-packages/keras/backend/tensorflow_backend.py:74: The name tf.get_default_graph is deprecated. Please use tf.compat.v1.get_default_graph instead.\n",
      "\n",
      "W0718 14:08:41.798318 4575983040 deprecation_wrapper.py:119] From /Users/dragonfly-mac/anaconda3/lib/python3.7/site-packages/keras/backend/tensorflow_backend.py:517: The name tf.placeholder is deprecated. Please use tf.compat.v1.placeholder instead.\n",
      "\n",
      "W0718 14:08:41.804481 4575983040 deprecation_wrapper.py:119] From /Users/dragonfly-mac/anaconda3/lib/python3.7/site-packages/keras/backend/tensorflow_backend.py:4138: The name tf.random_uniform is deprecated. Please use tf.random.uniform instead.\n",
      "\n"
     ]
    },
    {
     "name": "stdout",
     "output_type": "stream",
     "text": [
      "_________________________________________________________________\n",
      "Layer (type)                 Output Shape              Param #   \n",
      "=================================================================\n",
      "input_1 (InputLayer)         (None, 3072)              0         \n",
      "_________________________________________________________________\n",
      "hidden_layer1 (Dense)        (None, 1024)              3146752   \n",
      "_________________________________________________________________\n",
      "hidden_layer2 (Dense)        (None, 512)               524800    \n",
      "_________________________________________________________________\n",
      "hidden_layer3 (Dense)        (None, 256)               131328    \n",
      "_________________________________________________________________\n",
      "hidden_layer4 (Dense)        (None, 128)               32896     \n",
      "_________________________________________________________________\n",
      "hidden_layer5 (Dense)        (None, 64)                8256      \n",
      "_________________________________________________________________\n",
      "hidden_layer6 (Dense)        (None, 32)                2080      \n",
      "_________________________________________________________________\n",
      "hidden_layer7 (Dense)        (None, 32)                1056      \n",
      "_________________________________________________________________\n",
      "hidden_layer8 (Dense)        (None, 32)                1056      \n",
      "_________________________________________________________________\n",
      "hidden_layer9 (Dense)        (None, 32)                1056      \n",
      "_________________________________________________________________\n",
      "output (Dense)               (None, 10)                330       \n",
      "=================================================================\n",
      "Total params: 3,849,610\n",
      "Trainable params: 3,849,610\n",
      "Non-trainable params: 0\n",
      "_________________________________________________________________\n"
     ]
    }
   ],
   "source": [
    "model = build_mlp(input_shape=x_train.shape[1:])\n",
    "model.summary()"
   ]
  },
  {
   "cell_type": "code",
   "execution_count": 9,
   "metadata": {},
   "outputs": [],
   "source": [
    "## 超參數設定\n",
    "LEARNING_RATE = 0.001\n",
    "EPOCHS = 100\n",
    "BATCH_SIZE = 256"
   ]
  },
  {
   "cell_type": "code",
   "execution_count": 10,
   "metadata": {},
   "outputs": [
    {
     "name": "stderr",
     "output_type": "stream",
     "text": [
      "W0718 14:08:54.454476 4575983040 deprecation_wrapper.py:119] From /Users/dragonfly-mac/anaconda3/lib/python3.7/site-packages/keras/optimizers.py:790: The name tf.train.Optimizer is deprecated. Please use tf.compat.v1.train.Optimizer instead.\n",
      "\n",
      "W0718 14:08:54.466755 4575983040 deprecation_wrapper.py:119] From /Users/dragonfly-mac/anaconda3/lib/python3.7/site-packages/keras/backend/tensorflow_backend.py:3295: The name tf.log is deprecated. Please use tf.math.log instead.\n",
      "\n"
     ]
    }
   ],
   "source": [
    "optimizer = keras.optimizers.Adam(lr=LEARNING_RATE)\n",
    "model.compile(loss=\"categorical_crossentropy\", metrics=[\"accuracy\"], optimizer=optimizer)"
   ]
  },
  {
   "cell_type": "code",
   "execution_count": 11,
   "metadata": {},
   "outputs": [
    {
     "name": "stderr",
     "output_type": "stream",
     "text": [
      "W0718 14:09:22.293508 4575983040 deprecation.py:323] From /Users/dragonfly-mac/anaconda3/lib/python3.7/site-packages/tensorflow/python/ops/math_grad.py:1250: add_dispatch_support.<locals>.wrapper (from tensorflow.python.ops.array_ops) is deprecated and will be removed in a future version.\n",
      "Instructions for updating:\n",
      "Use tf.where in 2.0, which has the same broadcast rule as np.where\n",
      "W0718 14:09:22.497847 4575983040 deprecation_wrapper.py:119] From /Users/dragonfly-mac/anaconda3/lib/python3.7/site-packages/keras/backend/tensorflow_backend.py:986: The name tf.assign_add is deprecated. Please use tf.compat.v1.assign_add instead.\n",
      "\n"
     ]
    },
    {
     "name": "stdout",
     "output_type": "stream",
     "text": [
      "Train on 50000 samples, validate on 10000 samples\n",
      "Epoch 1/100\n",
      "50000/50000 [==============================] - 15s 308us/step - loss: 2.0834 - acc: 0.2078 - val_loss: 1.8861 - val_acc: 0.3079\n",
      "Epoch 2/100\n",
      "50000/50000 [==============================] - 14s 278us/step - loss: 1.8341 - acc: 0.3325 - val_loss: 1.7528 - val_acc: 0.3631\n",
      "Epoch 3/100\n",
      "50000/50000 [==============================] - 14s 283us/step - loss: 1.7276 - acc: 0.3733 - val_loss: 1.6766 - val_acc: 0.3990\n",
      "Epoch 4/100\n",
      "50000/50000 [==============================] - 16s 315us/step - loss: 1.6670 - acc: 0.3995 - val_loss: 1.6211 - val_acc: 0.4236\n",
      "Epoch 5/100\n",
      "50000/50000 [==============================] - 15s 303us/step - loss: 1.5917 - acc: 0.4262 - val_loss: 1.5562 - val_acc: 0.4391\n",
      "Epoch 6/100\n",
      "50000/50000 [==============================] - 15s 309us/step - loss: 1.5601 - acc: 0.4404 - val_loss: 1.5469 - val_acc: 0.4482\n",
      "Epoch 7/100\n",
      "50000/50000 [==============================] - 16s 322us/step - loss: 1.5180 - acc: 0.4562 - val_loss: 1.5536 - val_acc: 0.4502\n",
      "Epoch 8/100\n",
      "50000/50000 [==============================] - 16s 330us/step - loss: 1.4762 - acc: 0.4669 - val_loss: 1.4857 - val_acc: 0.4700\n",
      "Epoch 9/100\n",
      "50000/50000 [==============================] - 16s 318us/step - loss: 1.4458 - acc: 0.4792 - val_loss: 1.4798 - val_acc: 0.4670\n",
      "Epoch 10/100\n",
      "50000/50000 [==============================] - 14s 283us/step - loss: 1.4094 - acc: 0.4933 - val_loss: 1.5019 - val_acc: 0.4582\n",
      "Epoch 11/100\n",
      "50000/50000 [==============================] - 16s 325us/step - loss: 1.3858 - acc: 0.5027 - val_loss: 1.4945 - val_acc: 0.4735\n",
      "Epoch 12/100\n",
      "50000/50000 [==============================] - 14s 278us/step - loss: 1.3558 - acc: 0.5144 - val_loss: 1.4249 - val_acc: 0.4948\n",
      "Epoch 13/100\n",
      "50000/50000 [==============================] - 14s 282us/step - loss: 1.3244 - acc: 0.5270 - val_loss: 1.4095 - val_acc: 0.5000\n",
      "Epoch 14/100\n",
      "50000/50000 [==============================] - 16s 315us/step - loss: 1.2960 - acc: 0.5337 - val_loss: 1.3941 - val_acc: 0.5068\n",
      "Epoch 15/100\n",
      "50000/50000 [==============================] - 14s 280us/step - loss: 1.2742 - acc: 0.5430 - val_loss: 1.3819 - val_acc: 0.5064\n",
      "Epoch 16/100\n",
      "50000/50000 [==============================] - 15s 301us/step - loss: 1.2474 - acc: 0.5515 - val_loss: 1.4259 - val_acc: 0.4991\n",
      "Epoch 17/100\n",
      "50000/50000 [==============================] - 15s 305us/step - loss: 1.2140 - acc: 0.5632 - val_loss: 1.3690 - val_acc: 0.5133\n",
      "Epoch 18/100\n",
      "50000/50000 [==============================] - 13s 269us/step - loss: 1.2036 - acc: 0.5682 - val_loss: 1.4236 - val_acc: 0.5025\n",
      "Epoch 19/100\n",
      "50000/50000 [==============================] - 14s 284us/step - loss: 1.1710 - acc: 0.5818 - val_loss: 1.4354 - val_acc: 0.5049\n",
      "Epoch 20/100\n",
      "50000/50000 [==============================] - 15s 292us/step - loss: 1.1429 - acc: 0.5877 - val_loss: 1.4237 - val_acc: 0.5063\n",
      "Epoch 21/100\n",
      "50000/50000 [==============================] - 15s 303us/step - loss: 1.1247 - acc: 0.5962 - val_loss: 1.4421 - val_acc: 0.4971\n",
      "Epoch 22/100\n",
      "50000/50000 [==============================] - 14s 282us/step - loss: 1.1000 - acc: 0.6085 - val_loss: 1.4535 - val_acc: 0.5012\n",
      "Epoch 23/100\n",
      "50000/50000 [==============================] - 15s 292us/step - loss: 1.0804 - acc: 0.6134 - val_loss: 1.4456 - val_acc: 0.5092\n",
      "Epoch 24/100\n",
      "50000/50000 [==============================] - 14s 285us/step - loss: 1.0465 - acc: 0.6235 - val_loss: 1.4424 - val_acc: 0.5143\n",
      "Epoch 25/100\n",
      "50000/50000 [==============================] - 14s 288us/step - loss: 1.0196 - acc: 0.6344 - val_loss: 1.4468 - val_acc: 0.5098\n",
      "Epoch 26/100\n",
      "50000/50000 [==============================] - 13s 269us/step - loss: 0.9975 - acc: 0.6396 - val_loss: 1.4766 - val_acc: 0.5147\n",
      "Epoch 27/100\n",
      "50000/50000 [==============================] - 14s 287us/step - loss: 0.9728 - acc: 0.6512 - val_loss: 1.4703 - val_acc: 0.5189\n",
      "Epoch 28/100\n",
      "50000/50000 [==============================] - 14s 279us/step - loss: 0.9550 - acc: 0.6572 - val_loss: 1.5263 - val_acc: 0.5151\n",
      "Epoch 29/100\n",
      "50000/50000 [==============================] - 15s 294us/step - loss: 0.9221 - acc: 0.6671 - val_loss: 1.5036 - val_acc: 0.5149\n",
      "Epoch 30/100\n",
      "50000/50000 [==============================] - 16s 317us/step - loss: 0.8778 - acc: 0.6836 - val_loss: 1.5308 - val_acc: 0.5224\n",
      "Epoch 31/100\n",
      "50000/50000 [==============================] - 15s 292us/step - loss: 0.8600 - acc: 0.6921 - val_loss: 1.5955 - val_acc: 0.5117\n",
      "Epoch 32/100\n",
      "50000/50000 [==============================] - 15s 295us/step - loss: 0.8457 - acc: 0.6980 - val_loss: 1.5662 - val_acc: 0.5188\n",
      "Epoch 33/100\n",
      "50000/50000 [==============================] - 15s 293us/step - loss: 0.8183 - acc: 0.7076 - val_loss: 1.5595 - val_acc: 0.5217\n",
      "Epoch 34/100\n",
      "50000/50000 [==============================] - 14s 279us/step - loss: 0.7808 - acc: 0.7205 - val_loss: 1.6628 - val_acc: 0.5159\n",
      "Epoch 35/100\n",
      "50000/50000 [==============================] - 15s 297us/step - loss: 0.7656 - acc: 0.7243 - val_loss: 1.6104 - val_acc: 0.5167\n",
      "Epoch 36/100\n",
      "50000/50000 [==============================] - 14s 280us/step - loss: 0.7482 - acc: 0.7309 - val_loss: 1.6939 - val_acc: 0.5136\n",
      "Epoch 37/100\n",
      "50000/50000 [==============================] - 16s 324us/step - loss: 0.7305 - acc: 0.7360 - val_loss: 1.7445 - val_acc: 0.5155\n",
      "Epoch 38/100\n",
      "50000/50000 [==============================] - 14s 286us/step - loss: 0.7113 - acc: 0.7462 - val_loss: 1.7428 - val_acc: 0.5098\n",
      "Epoch 39/100\n",
      "50000/50000 [==============================] - 15s 297us/step - loss: 0.6817 - acc: 0.7571 - val_loss: 1.8040 - val_acc: 0.5055\n",
      "Epoch 40/100\n",
      "50000/50000 [==============================] - 16s 321us/step - loss: 0.6754 - acc: 0.7577 - val_loss: 1.8127 - val_acc: 0.5109\n",
      "Epoch 41/100\n",
      "50000/50000 [==============================] - 16s 317us/step - loss: 0.6305 - acc: 0.7747 - val_loss: 1.8133 - val_acc: 0.5155\n",
      "Epoch 42/100\n",
      "50000/50000 [==============================] - 15s 309us/step - loss: 0.6184 - acc: 0.7786 - val_loss: 1.8966 - val_acc: 0.5071\n",
      "Epoch 43/100\n",
      "50000/50000 [==============================] - 17s 330us/step - loss: 0.6020 - acc: 0.7839 - val_loss: 1.9276 - val_acc: 0.5047\n",
      "Epoch 44/100\n",
      "50000/50000 [==============================] - 15s 308us/step - loss: 0.5828 - acc: 0.7932 - val_loss: 1.9563 - val_acc: 0.5130\n",
      "Epoch 45/100\n",
      "50000/50000 [==============================] - 17s 339us/step - loss: 0.5608 - acc: 0.7997 - val_loss: 1.9537 - val_acc: 0.5086\n",
      "Epoch 46/100\n",
      "50000/50000 [==============================] - 16s 311us/step - loss: 0.5516 - acc: 0.8034 - val_loss: 2.0286 - val_acc: 0.5115\n",
      "Epoch 47/100\n",
      "50000/50000 [==============================] - 16s 326us/step - loss: 0.5392 - acc: 0.8090 - val_loss: 2.0632 - val_acc: 0.4988\n",
      "Epoch 48/100\n",
      "50000/50000 [==============================] - 16s 322us/step - loss: 0.5262 - acc: 0.8130 - val_loss: 2.1498 - val_acc: 0.5129\n",
      "Epoch 49/100\n",
      "50000/50000 [==============================] - 17s 348us/step - loss: 0.4982 - acc: 0.8224 - val_loss: 2.1714 - val_acc: 0.4963\n",
      "Epoch 50/100\n",
      "50000/50000 [==============================] - 14s 289us/step - loss: 0.5021 - acc: 0.8221 - val_loss: 2.1981 - val_acc: 0.4995\n",
      "Epoch 51/100\n",
      "50000/50000 [==============================] - 14s 290us/step - loss: 0.4746 - acc: 0.8312 - val_loss: 2.2126 - val_acc: 0.5000\n",
      "Epoch 52/100\n",
      "50000/50000 [==============================] - 17s 340us/step - loss: 0.4743 - acc: 0.8305 - val_loss: 2.3806 - val_acc: 0.5038\n",
      "Epoch 53/100\n",
      "50000/50000 [==============================] - 13s 262us/step - loss: 0.4624 - acc: 0.8364 - val_loss: 2.4004 - val_acc: 0.4966\n",
      "Epoch 54/100\n",
      "50000/50000 [==============================] - 13s 263us/step - loss: 0.4412 - acc: 0.8426 - val_loss: 2.3078 - val_acc: 0.5029\n",
      "Epoch 55/100\n",
      "50000/50000 [==============================] - 13s 264us/step - loss: 0.4104 - acc: 0.8542 - val_loss: 2.3500 - val_acc: 0.5054\n",
      "Epoch 56/100\n",
      "50000/50000 [==============================] - 14s 272us/step - loss: 0.4484 - acc: 0.8408 - val_loss: 2.2971 - val_acc: 0.4976\n",
      "Epoch 57/100\n",
      "50000/50000 [==============================] - 13s 266us/step - loss: 0.4195 - acc: 0.8511 - val_loss: 2.5395 - val_acc: 0.4852\n",
      "Epoch 58/100\n",
      "50000/50000 [==============================] - 13s 269us/step - loss: 0.4076 - acc: 0.8579 - val_loss: 2.4629 - val_acc: 0.4949\n"
     ]
    },
    {
     "name": "stdout",
     "output_type": "stream",
     "text": [
      "Epoch 59/100\n",
      "50000/50000 [==============================] - 14s 270us/step - loss: 0.3998 - acc: 0.8564 - val_loss: 2.5407 - val_acc: 0.4972\n",
      "Epoch 60/100\n",
      "50000/50000 [==============================] - 13s 267us/step - loss: 0.3797 - acc: 0.8663 - val_loss: 2.4843 - val_acc: 0.5046\n",
      "Epoch 61/100\n",
      "50000/50000 [==============================] - 13s 267us/step - loss: 0.3826 - acc: 0.8648 - val_loss: 2.6005 - val_acc: 0.4929\n",
      "Epoch 62/100\n",
      "50000/50000 [==============================] - 14s 278us/step - loss: 0.3628 - acc: 0.8717 - val_loss: 2.6776 - val_acc: 0.4938\n",
      "Epoch 63/100\n",
      "50000/50000 [==============================] - 16s 324us/step - loss: 0.3633 - acc: 0.8715 - val_loss: 2.6133 - val_acc: 0.5013\n",
      "Epoch 64/100\n",
      "50000/50000 [==============================] - 17s 332us/step - loss: 0.3465 - acc: 0.8783 - val_loss: 2.6080 - val_acc: 0.4980\n",
      "Epoch 65/100\n",
      "50000/50000 [==============================] - 19s 375us/step - loss: 0.3341 - acc: 0.8829 - val_loss: 2.7092 - val_acc: 0.4968\n",
      "Epoch 66/100\n",
      "50000/50000 [==============================] - 17s 343us/step - loss: 0.3444 - acc: 0.8778 - val_loss: 2.7210 - val_acc: 0.4847\n",
      "Epoch 67/100\n",
      "50000/50000 [==============================] - 17s 338us/step - loss: 0.3266 - acc: 0.8852 - val_loss: 2.7028 - val_acc: 0.5041\n",
      "Epoch 68/100\n",
      "50000/50000 [==============================] - 15s 307us/step - loss: 0.3133 - acc: 0.8899 - val_loss: 2.8416 - val_acc: 0.4947\n",
      "Epoch 69/100\n",
      "50000/50000 [==============================] - 16s 325us/step - loss: 0.3012 - acc: 0.8943 - val_loss: 2.9253 - val_acc: 0.4934\n",
      "Epoch 70/100\n",
      "50000/50000 [==============================] - 17s 349us/step - loss: 0.3163 - acc: 0.8896 - val_loss: 2.8210 - val_acc: 0.5048\n",
      "Epoch 71/100\n",
      "50000/50000 [==============================] - 15s 299us/step - loss: 0.3107 - acc: 0.8904 - val_loss: 2.8043 - val_acc: 0.4936\n",
      "Epoch 72/100\n",
      "50000/50000 [==============================] - 14s 286us/step - loss: 0.3049 - acc: 0.8924 - val_loss: 2.8135 - val_acc: 0.4970\n",
      "Epoch 73/100\n",
      "50000/50000 [==============================] - 14s 287us/step - loss: 0.2964 - acc: 0.8953 - val_loss: 2.9211 - val_acc: 0.4903\n",
      "Epoch 74/100\n",
      "50000/50000 [==============================] - 15s 296us/step - loss: 0.2790 - acc: 0.9021 - val_loss: 3.0388 - val_acc: 0.4891\n",
      "Epoch 75/100\n",
      "50000/50000 [==============================] - 16s 323us/step - loss: 0.2967 - acc: 0.8971 - val_loss: 2.8398 - val_acc: 0.4913\n",
      "Epoch 76/100\n",
      "50000/50000 [==============================] - 16s 313us/step - loss: 0.2806 - acc: 0.9021 - val_loss: 2.9664 - val_acc: 0.4951\n",
      "Epoch 77/100\n",
      "50000/50000 [==============================] - 16s 322us/step - loss: 0.2816 - acc: 0.9027 - val_loss: 3.0657 - val_acc: 0.4972\n",
      "Epoch 78/100\n",
      "50000/50000 [==============================] - 16s 312us/step - loss: 0.2662 - acc: 0.9073 - val_loss: 3.0906 - val_acc: 0.4892\n",
      "Epoch 79/100\n",
      "50000/50000 [==============================] - 16s 327us/step - loss: 0.2819 - acc: 0.9009 - val_loss: 2.9574 - val_acc: 0.4891\n",
      "Epoch 80/100\n",
      "50000/50000 [==============================] - 16s 327us/step - loss: 0.2475 - acc: 0.9131 - val_loss: 3.0865 - val_acc: 0.4901\n",
      "Epoch 81/100\n",
      "50000/50000 [==============================] - 16s 312us/step - loss: 0.2577 - acc: 0.9099 - val_loss: 2.9927 - val_acc: 0.4921\n",
      "Epoch 82/100\n",
      "50000/50000 [==============================] - 16s 324us/step - loss: 0.2566 - acc: 0.9090 - val_loss: 2.9954 - val_acc: 0.4995\n",
      "Epoch 83/100\n",
      "50000/50000 [==============================] - 16s 311us/step - loss: 0.2529 - acc: 0.9125 - val_loss: 3.0635 - val_acc: 0.4994\n",
      "Epoch 84/100\n",
      "50000/50000 [==============================] - 16s 325us/step - loss: 0.2544 - acc: 0.9109 - val_loss: 3.1938 - val_acc: 0.4852\n",
      "Epoch 85/100\n",
      "50000/50000 [==============================] - 15s 301us/step - loss: 0.2375 - acc: 0.9177 - val_loss: 3.2812 - val_acc: 0.4824\n",
      "Epoch 86/100\n",
      "50000/50000 [==============================] - 16s 326us/step - loss: 0.2558 - acc: 0.9098 - val_loss: 3.1778 - val_acc: 0.4964\n",
      "Epoch 87/100\n",
      "50000/50000 [==============================] - 14s 284us/step - loss: 0.2124 - acc: 0.9263 - val_loss: 3.3007 - val_acc: 0.4905\n",
      "Epoch 88/100\n",
      "50000/50000 [==============================] - 15s 297us/step - loss: 0.2322 - acc: 0.9182 - val_loss: 3.1960 - val_acc: 0.4842\n",
      "Epoch 89/100\n",
      "50000/50000 [==============================] - 16s 321us/step - loss: 0.2422 - acc: 0.9185 - val_loss: 3.1255 - val_acc: 0.4932\n",
      "Epoch 90/100\n",
      "50000/50000 [==============================] - 17s 349us/step - loss: 0.2155 - acc: 0.9247 - val_loss: 3.3650 - val_acc: 0.5025\n",
      "Epoch 91/100\n",
      "50000/50000 [==============================] - 16s 321us/step - loss: 0.2168 - acc: 0.9247 - val_loss: 3.2031 - val_acc: 0.4997\n",
      "Epoch 92/100\n",
      "50000/50000 [==============================] - 16s 312us/step - loss: 0.2303 - acc: 0.9208 - val_loss: 3.2118 - val_acc: 0.4964\n",
      "Epoch 93/100\n",
      "50000/50000 [==============================] - 14s 276us/step - loss: 0.2222 - acc: 0.9218 - val_loss: 3.2759 - val_acc: 0.4927\n",
      "Epoch 94/100\n",
      "50000/50000 [==============================] - 14s 284us/step - loss: 0.2149 - acc: 0.9253 - val_loss: 3.2021 - val_acc: 0.4895\n",
      "Epoch 95/100\n",
      "50000/50000 [==============================] - 14s 284us/step - loss: 0.1912 - acc: 0.9344 - val_loss: 3.3296 - val_acc: 0.4949\n",
      "Epoch 96/100\n",
      "50000/50000 [==============================] - 16s 319us/step - loss: 0.2030 - acc: 0.9303 - val_loss: 3.4460 - val_acc: 0.4952\n",
      "Epoch 97/100\n",
      "50000/50000 [==============================] - 15s 310us/step - loss: 0.2099 - acc: 0.9266 - val_loss: 3.2278 - val_acc: 0.4941\n",
      "Epoch 98/100\n",
      "50000/50000 [==============================] - 16s 314us/step - loss: 0.2151 - acc: 0.9252 - val_loss: 3.3419 - val_acc: 0.4908\n",
      "Epoch 99/100\n",
      "50000/50000 [==============================] - 16s 319us/step - loss: 0.1989 - acc: 0.9298 - val_loss: 3.3966 - val_acc: 0.5023\n",
      "Epoch 100/100\n",
      "50000/50000 [==============================] - 18s 355us/step - loss: 0.1938 - acc: 0.9350 - val_loss: 3.1794 - val_acc: 0.4913\n"
     ]
    },
    {
     "data": {
      "text/plain": [
       "<keras.callbacks.History at 0x1114cc550>"
      ]
     },
     "execution_count": 11,
     "metadata": {},
     "output_type": "execute_result"
    }
   ],
   "source": [
    "model.fit(x_train, y_train, \n",
    "          epochs=EPOCHS, \n",
    "          batch_size=BATCH_SIZE, \n",
    "          validation_data=(x_test, y_test), \n",
    "          shuffle=True)"
   ]
  },
  {
   "cell_type": "code",
   "execution_count": 13,
   "metadata": {},
   "outputs": [
    {
     "data": {
      "image/png": "[encoded data removed]",
      "text/plain": [
       "<Figure size 432x288 with 1 Axes>"
      ]
     },
     "metadata": {
      "needs_background": "light"
     },
     "output_type": "display_data"
    },
    {
     "data": {
      "image/png": "[encoded data removed]",
      "text/plain": [
       "<Figure size 432x288 with 1 Axes>"
      ]
     },
     "metadata": {
      "needs_background": "light"
     },
     "output_type": "display_data"
    }
   ],
   "source": [
    "import matplotlib.pyplot as plt\n",
    "\n",
    "\n",
    "train_loss = model.history.history[\"loss\"]\n",
    "valid_loss = model.history.history[\"val_loss\"]\n",
    "\n",
    "train_acc = model.history.history[\"acc\"]\n",
    "valid_acc = model.history.history[\"val_acc\"]\n",
    "\n",
    "plt.plot(range(len(train_loss)), train_loss, label=\"train loss\")\n",
    "plt.plot(range(len(valid_loss)), valid_loss, label=\"valid loss\")\n",
    "plt.legend()\n",
    "plt.title(\"Loss\")\n",
    "plt.show()\n",
    "\n",
    "plt.plot(range(len(train_acc)), train_acc, label=\"train accuracy\")\n",
    "plt.plot(range(len(valid_acc)), valid_acc, label=\"valid accuracy\")\n",
    "plt.legend()\n",
    "plt.title(\"Accuracy\")\n",
    "plt.show()"
   ]
  },
  {
   "cell_type": "markdown",
   "metadata": {},
   "source": [
    "### GPU version"
   ]
  },
  {
   "cell_type": "code",
   "execution_count": null,
   "metadata": {},
   "outputs": [],
   "source": [
    "model.fit(x_train, y_train, \n",
    "          epochs=EPOCHS, \n",
    "          batch_size=BATCH_SIZE, \n",
    "          validation_data=(x_test, y_test), \n",
    "          shuffle=True)"
   ]
  },
  {
   "cell_type": "code",
   "execution_count": null,
   "metadata": {},
   "outputs": [],
   "source": [
    "import matplotlib.pyplot as plt\n",
    "\n",
    "\n",
    "train_loss = model.history.history[\"loss\"]\n",
    "valid_loss = model.history.history[\"val_loss\"]\n",
    "\n",
    "train_acc = model.history.history[\"acc\"]\n",
    "valid_acc = model.history.history[\"val_acc\"]\n",
    "\n",
    "plt.plot(range(len(train_loss)), train_loss, label=\"train loss\")\n",
    "plt.plot(range(len(valid_loss)), valid_loss, label=\"valid loss\")\n",
    "plt.legend()\n",
    "plt.title(\"Loss\")\n",
    "plt.show()\n",
    "\n",
    "plt.plot(range(len(train_acc)), train_acc, label=\"train accuracy\")\n",
    "plt.plot(range(len(valid_acc)), valid_acc, label=\"valid accuracy\")\n",
    "plt.legend()\n",
    "plt.title(\"Accuracy\")\n",
    "plt.show()"
   ]
  }
 ],
 "metadata": {
  "kernelspec": {
   "display_name": "Python 3",
   "language": "python",
   "name": "python3"
  },
  "language_info": {
   "codemirror_mode": {
    "name": "ipython",
    "version": 3
   },
   "file_extension": ".py",
   "mimetype": "text/x-python",
   "name": "python",
   "nbconvert_exporter": "python",
   "pygments_lexer": "ipython3",
   "version": "3.7.3"
  }
 },
 "nbformat": 4,
 "nbformat_minor": 2
}
