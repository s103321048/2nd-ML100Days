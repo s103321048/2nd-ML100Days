{
 "cells": [
  {
   "cell_type": "markdown",
   "metadata": {},
   "source": [
    "Questions 1\n",
    "1. 你選的這組資料為何重要\n",
    "\n",
    "  統整了1~7世代的所有pokemon的資料\n",
    "2. 資料從何而來 (tips: 譬如提供者是誰、以什麼方式蒐集)\n",
    "\n",
    "  資料是從網站上(https://pokemondb.net/pokedex/national) 爬蟲來的\n",
    "3. 蒐集而來的資料型態為何\n",
    "\n",
    "  蒐集來的資料為csv檔(table)及圖片png檔\n",
    "4. 這組資料想解決的問題如何評估\n",
    "\n",
    "  可以用於對未來新世代的預測\n",
    "  和提供創作者去融合出自己的pokemon"
   ]
  },
  {
   "cell_type": "code",
   "execution_count": null,
   "metadata": {},
   "outputs": [],
   "source": []
  }
 ],
 "metadata": {
  "kernelspec": {
   "display_name": "Python 3",
   "language": "python",
   "name": "python3"
  },
  "language_info": {
   "codemirror_mode": {
    "name": "ipython",
    "version": 3
   },
   "file_extension": ".py",
   "mimetype": "text/x-python",
   "name": "python",
   "nbconvert_exporter": "python",
   "pygments_lexer": "ipython3",
   "version": "3.7.3"
  }
 },
 "nbformat": 4,
 "nbformat_minor": 2
}
